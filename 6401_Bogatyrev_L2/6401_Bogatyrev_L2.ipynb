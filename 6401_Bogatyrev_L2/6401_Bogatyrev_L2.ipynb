{
 "cells": [
  {
   "cell_type": "code",
   "execution_count": 99,
   "id": "d403f833",
   "metadata": {},
   "outputs": [],
   "source": [
    "import os\n",
    "import sys\n",
    "import pyspark.sql.functions as F\n",
    "from pyspark.sql import Row\n",
    "from pyspark.sql import SparkSession"
   ]
  },
  {
   "cell_type": "code",
   "execution_count": 100,
   "id": "2aef9bed",
   "metadata": {},
   "outputs": [
    {
     "data": {
      "text/html": [
       "\n",
       "            <div>\n",
       "                <p><b>SparkSession - in-memory</b></p>\n",
       "                \n",
       "        <div>\n",
       "            <p><b>SparkContext</b></p>\n",
       "\n",
       "            <p><a href=\"http://televersus:4040\">Spark UI</a></p>\n",
       "\n",
       "            <dl>\n",
       "              <dt>Version</dt>\n",
       "                <dd><code>v3.5.5</code></dd>\n",
       "              <dt>Master</dt>\n",
       "                <dd><code>local[*]</code></dd>\n",
       "              <dt>AppName</dt>\n",
       "                <dd><code>pyspark-shell</code></dd>\n",
       "            </dl>\n",
       "        </div>\n",
       "        \n",
       "            </div>\n",
       "        "
      ],
      "text/plain": [
       "<pyspark.sql.session.SparkSession at 0x25866d72510>"
      ]
     },
     "execution_count": 100,
     "metadata": {},
     "output_type": "execute_result"
    }
   ],
   "source": [
    "os.environ['PYSPARK_PYTHON'] = sys.executable\n",
    "os.environ['PYSPARK_DRIVER_PYTHON'] = sys.executable\n",
    "os.environ['PYSPARK_SUBMIT_ARGS'] = '--packages com.databricks:spark-xml_2.12:0.17.0 pyspark-shell'\n",
    "spark = SparkSession.builder.master(\"local[*]\").getOrCreate()\n",
    "spark"
   ]
  },
  {
   "cell_type": "code",
   "execution_count": 101,
   "id": "45e41454",
   "metadata": {},
   "outputs": [
    {
     "name": "stdout",
     "output_type": "stream",
     "text": [
      "+-----------------+------------+--------------------+-----------+-------------+--------------------+--------------------+--------------+-------+--------------------+--------------------+----------------------+-----------------+-----------------+------------+---------+-----------+------+--------------------+--------------------+----------+\n",
      "|_AcceptedAnswerId|_AnswerCount|               _Body|_ClosedDate|_CommentCount| _CommunityOwnedDate|       _CreationDate|_FavoriteCount|    _Id|   _LastActivityDate|       _LastEditDate|_LastEditorDisplayName|_LastEditorUserId|_OwnerDisplayName|_OwnerUserId|_ParentId|_PostTypeId|_Score|               _Tags|              _Title|_ViewCount|\n",
      "+-----------------+------------+--------------------+-----------+-------------+--------------------+--------------------+--------------+-------+--------------------+--------------------+----------------------+-----------------+-----------------+------------+---------+-----------+------+--------------------+--------------------+----------+\n",
      "|             NULL|        NULL|<p>No. (And more ...|       NULL|            6|                NULL|2010-09-20 20:18:...|          NULL|3753373|2010-09-20 20:18:...|                NULL|                  NULL|             NULL|             NULL|       10293|  3753364|          2|    13|                NULL|                NULL|      NULL|\n",
      "|             NULL|        NULL|<p>I am not aware...|       NULL|            2|                NULL|2010-09-20 22:36:...|          NULL|3754384|2010-09-20 22:43:...|2010-09-20 22:43:...|                  NULL|           140185|             NULL|      140185|  3754279|          2|     2|                NULL|                NULL|      NULL|\n",
      "|             NULL|        NULL|<p>If you want a ...|       NULL|            2|                NULL|2010-09-20 23:04:...|          NULL|3754601|2010-09-20 23:04:...|                NULL|                  NULL|             NULL|             NULL|        7280|  3754553|          2|     1|                NULL|                NULL|      NULL|\n",
      "|             NULL|        NULL|<p>The very first...|       NULL|            0|                NULL|2010-09-21 06:07:...|          NULL|3756831|2010-09-21 06:07:...|                NULL|                  NULL|             NULL|             NULL|      349130|  3756770|          2|     9|                NULL|                NULL|      NULL|\n",
      "|             NULL|        NULL|<p>It seems to me...|       NULL|            3|                NULL|2010-09-21 11:33:...|          NULL|3758183|2010-09-21 11:33:...|                NULL|                  NULL|             NULL|             NULL|       15168|  3754526|          2|     0|                NULL|                NULL|      NULL|\n",
      "|             NULL|        NULL|<p>In Django orig...|       NULL|            3|2010-09-21 15:46:...|2010-09-21 15:46:...|          NULL|3759958|2010-09-21 17:40:...|2010-09-21 17:40:...|                  NULL|           377095|             NULL|      377095|  3759524|          2|     1|                NULL|                NULL|      NULL|\n",
      "|             NULL|        NULL|<p>You can't. Mic...|       NULL|            0|                NULL|2010-09-21 16:07:...|          NULL|3760101|2010-09-21 16:07:...|                NULL|                  NULL|             NULL|             NULL|      155641|  3760066|          2|     1|                NULL|                NULL|      NULL|\n",
      "|             NULL|        NULL|<p>I don't know, ...|       NULL|            0|                NULL|2010-09-21 17:16:...|          NULL|3760630|2010-09-21 17:16:...|                NULL|                  NULL|             NULL|             NULL|      417143|  2739558|          2|     0|                NULL|                NULL|      NULL|\n",
      "|             NULL|        NULL|<p>You can't unle...|       NULL|            2|                NULL|2010-09-21 19:09:...|          NULL|3761678|2010-09-21 19:09:...|                NULL|                  NULL|             NULL|             NULL|       77409|  3761429|          2|     2|                NULL|                NULL|      NULL|\n",
      "|             NULL|        NULL|<p>Assume your se...|       NULL|            0|                NULL|2010-09-21 20:22:...|          NULL|3762339|2010-09-21 20:22:...|                NULL|                  NULL|             NULL|             NULL|        4280|  3761757|          2|     0|                NULL|                NULL|      NULL|\n",
      "|             NULL|        NULL|<p>You can use th...|       NULL|            0|                NULL|2010-09-21 22:27:...|          NULL|3763289|2013-06-07 09:57:...|2013-06-07 09:57:...|                  NULL|          1083859|             NULL|      413594|  3761292|          2|     3|                NULL|                NULL|      NULL|\n",
      "|             NULL|        NULL|<p>You can <a hre...|       NULL|            3|                NULL|2010-09-21 23:36:...|          NULL|3763797|2010-09-21 23:36:...|                NULL|                  NULL|             NULL|             NULL|       15639|  3754233|          2|    -1|                NULL|                NULL|      NULL|\n",
      "|             NULL|        NULL|<p>Missing a coup...|       NULL|            3|                NULL|2010-09-22 02:26:...|          NULL|3764959|2010-09-22 02:33:...|2010-09-22 02:33:...|                  NULL|            75642|             NULL|       29411|  3764878|          2|     1|                NULL|                NULL|      NULL|\n",
      "|             NULL|        NULL|<p>Checking the s...|       NULL|            1|                NULL|2010-09-22 07:05:...|          NULL|3766041|2010-09-22 07:11:...|2010-09-22 07:11:...|                  NULL|           365526|             NULL|      365526|  3765865|          2|     3|                NULL|                NULL|      NULL|\n",
      "|             NULL|        NULL|<p>Yes.</p>\\n\\n<p...|       NULL|            0|                NULL|2010-09-22 09:11:...|          NULL|3766485|2010-09-22 09:11:...|                NULL|                  NULL|             NULL|             NULL|        2788|  3766437|          2|     0|                NULL|                NULL|      NULL|\n",
      "|             NULL|        NULL|<p>If you have th...|       NULL|            0|                NULL|2010-09-22 11:56:...|          NULL|3767314|2010-09-22 11:56:...|                NULL|                  NULL|             NULL|             NULL|       49505|  3767267|          2|     4|                NULL|                NULL|      NULL|\n",
      "|          4248640|           1|<p>The standard d...|       NULL|            0|                NULL|2010-09-22 14:33:...|             5|3768363|2017-02-26 22:11:...|2017-02-26 22:11:...|                  NULL|          1848654|             NULL|      418110|     NULL|          1|    10|<c++><character-e...|Character sets - ...|      3650|\n",
      "|             NULL|        NULL|<p>Whether or not...|       NULL|            0|                NULL|2010-09-22 16:04:...|          NULL|3768995|2010-09-22 16:04:...|                NULL|                  NULL|             NULL|             NULL|      223992|  3768333|          2|     4|                NULL|                NULL|      NULL|\n",
      "|             NULL|        NULL|<pre><code>positi...|       NULL|            0|                NULL|2010-09-22 18:21:...|          NULL|3770195|2010-09-22 18:21:...|                NULL|                  NULL|             NULL|             NULL|      446738|  3770033|          2|     0|                NULL|                NULL|      NULL|\n",
      "|             NULL|        NULL|<p>Your game engi...|       NULL|            2|                NULL|2010-09-23 04:06:...|          NULL|3774533|2010-09-23 04:06:...|                NULL|                  NULL|             NULL|             NULL|      234039|  3773971|          2|     1|                NULL|                NULL|      NULL|\n",
      "+-----------------+------------+--------------------+-----------+-------------+--------------------+--------------------+--------------+-------+--------------------+--------------------+----------------------+-----------------+-----------------+------------+---------+-----------+------+--------------------+--------------------+----------+\n",
      "only showing top 20 rows\n",
      "\n"
     ]
    }
   ],
   "source": [
    "post_data = (spark.read.format('xml')\n",
    "             .option('rowTag', 'row')\n",
    "             .option(\"timestampFormat\", 'y/M/d H:m:s')\n",
    "             .load('posts_sample.xml'))\n",
    "\n",
    "posts_by_date = post_data.filter(F.col(\"_CreationDate\").between(\"2010-01-01\",\"2020-12-31\"))\n",
    "posts_by_date.show()"
   ]
  },
  {
   "cell_type": "code",
   "execution_count": 102,
   "id": "c5a7b08d",
   "metadata": {},
   "outputs": [
    {
     "name": "stdout",
     "output_type": "stream",
     "text": [
      "+------------+--------------------+\n",
      "|        name|       wikipedia_url|\n",
      "+------------+--------------------+\n",
      "|     A# .NET|https://en.wikipe...|\n",
      "|  A# (Axiom)|https://en.wikipe...|\n",
      "|  A-0 System|https://en.wikipe...|\n",
      "|          A+|https://en.wikipe...|\n",
      "|         A++|https://en.wikipe...|\n",
      "|        ABAP|https://en.wikipe...|\n",
      "|         ABC|https://en.wikipe...|\n",
      "|   ABC ALGOL|https://en.wikipe...|\n",
      "|       ABSET|https://en.wikipe...|\n",
      "|       ABSYS|https://en.wikipe...|\n",
      "|         ACC|https://en.wikipe...|\n",
      "|      Accent|https://en.wikipe...|\n",
      "|    Ace DASL|https://en.wikipe...|\n",
      "|        ACL2|https://en.wikipe...|\n",
      "|     ACT-III|https://en.wikipe...|\n",
      "|     Action!|https://en.wikipe...|\n",
      "|ActionScript|https://en.wikipe...|\n",
      "|         Ada|https://en.wikipe...|\n",
      "|     Adenine|https://en.wikipe...|\n",
      "|        Agda|https://en.wikipe...|\n",
      "+------------+--------------------+\n",
      "only showing top 20 rows\n",
      "\n"
     ]
    }
   ],
   "source": [
    "language_data = (spark.read.format(\"csv\")\n",
    "                 .option(\"header\", True)\n",
    "                 .option(\"inferSchema\", True)\n",
    "                 .load(\"programming-languages.csv\")\n",
    "                 .dropna(how=\"all\"))\n",
    "\n",
    "language_data.show()"
   ]
  },
  {
   "cell_type": "code",
   "execution_count": 103,
   "id": "feaeef42",
   "metadata": {},
   "outputs": [
    {
     "name": "stdout",
     "output_type": "stream",
     "text": [
      "+----+--------+-----+\n",
      "|Year|Language|Count|\n",
      "+----+--------+-----+\n",
      "|2010|       E| 1510|\n",
      "|2010|       C|  296|\n",
      "|2010|       B|  210|\n",
      "|2010|       D|   65|\n",
      "|2010|       L|   14|\n",
      "|2010|     Arc|   10|\n",
      "|2010|       G|    9|\n",
      "|2010|     ACC|    9|\n",
      "|2010|       J|    8|\n",
      "|2010|     PHP|    7|\n",
      "|2011|       E| 2497|\n",
      "|2011|       C|  466|\n",
      "|2011|       B|  336|\n",
      "|2011|       D|  127|\n",
      "|2011|       L|   29|\n",
      "|2011|       G|   15|\n",
      "|2011|     PHP|   14|\n",
      "|2011|       J|   14|\n",
      "|2011|     Arc|   10|\n",
      "|2011|       F|    9|\n",
      "+----+--------+-----+\n",
      "only showing top 20 rows\n",
      "\n"
     ]
    }
   ],
   "source": [
    "from operator import add\n",
    "\n",
    "def find_names(row, language_names):\n",
    "    tag = next((name for name in language_names if name.lower() in str(row._Tags).lower()), 'None')\n",
    "    return (row._CreationDate, tag)\n",
    "\n",
    "language_names = [str(row['name']) for row in language_data.collect()] # Список имен языков\n",
    "\n",
    "year_name = posts_by_date.rdd.map(lambda row: find_names(row, language_names)) # Данные в формате дата -- имя языка\n",
    "year_name_filtered = year_name.filter(lambda row: row[1] != 'None') # Отфильтрованные данные, убраны даты без языков (22 записи)\n",
    "year_name_keyed = year_name_filtered.keyBy(lambda row: (row[0].year, row[1])) # Добавляем каждой строке ключ -- в формате (год, язык)\n",
    "year_name_counted = year_name_keyed.aggregateByKey(0, lambda acc, row: acc + 1, lambda acc1, acc2: acc1 + acc2) # Группируем значения по ключам, считая их\n",
    "year_name_sorted = year_name_counted.sortBy(lambda row: row[1], ascending=False) # Сортируем записи по посчитанному выше количеству\n",
    "\n",
    "table = year_name_sorted.collect() # Материализуем табличку\n",
    "\n",
    "# Собираем список языков по годам, включая для каждого из них не более 10 записей\n",
    "lang_by_years_list = []\n",
    "for year in range(2010,2021):\n",
    "    lang_by_years_list.extend([(row[0][0], row[0][1], row[1]) for row in table if row[0][0] == year][:10])\n",
    "\n",
    "\n",
    "row_template = Row('Year', 'Language', 'Count')\n",
    "df = spark.createDataFrame([row_template(*x) for x in lang_by_years_list])\n",
    "df.write.mode(\"overwrite\").parquet(\"top_10_languages_by_years.parquet\")\n",
    "df.show()"
   ]
  }
 ],
 "metadata": {
  "kernelspec": {
   "display_name": "Python 3",
   "language": "python",
   "name": "python3"
  },
  "language_info": {
   "codemirror_mode": {
    "name": "ipython",
    "version": 3
   },
   "file_extension": ".py",
   "mimetype": "text/x-python",
   "name": "python",
   "nbconvert_exporter": "python",
   "pygments_lexer": "ipython3",
   "version": "3.11.2"
  }
 },
 "nbformat": 4,
 "nbformat_minor": 5
}
