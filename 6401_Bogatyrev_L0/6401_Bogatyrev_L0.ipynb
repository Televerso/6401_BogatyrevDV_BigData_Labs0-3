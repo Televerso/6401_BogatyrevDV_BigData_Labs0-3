{
  "cells": [
    {
      "cell_type": "markdown",
      "metadata": {
        "id": "82OvPKEiEqjc"
      },
      "source": [
        "# Введение в MapReduce модель на Python\n"
      ]
    },
    {
      "cell_type": "code",
      "execution_count": 1,
      "metadata": {
        "id": "JQ2cvXLjICmI"
      },
      "outputs": [],
      "source": [
        "from typing import NamedTuple # requires python 3.6+\n",
        "from typing import Iterator"
      ]
    },
    {
      "cell_type": "code",
      "execution_count": 2,
      "metadata": {
        "id": "yjPHumVwEyEg"
      },
      "outputs": [],
      "source": [
        "def MAP(_, row:NamedTuple):\n",
        "  if (row.gender == 'female'):\n",
        "    yield (row.age, row)\n",
        "\n",
        "def REDUCE(age:str, rows:Iterator[NamedTuple]):\n",
        "  sum = 0\n",
        "  count = 0\n",
        "  for row in rows:\n",
        "    sum += row.social_contacts\n",
        "    count += 1\n",
        "  if (count > 0):\n",
        "    yield (age, sum/count)\n",
        "  else:\n",
        "    yield (age, 0)"
      ]
    },
    {
      "cell_type": "markdown",
      "metadata": {
        "id": "vBKMgpG_ilaZ"
      },
      "source": [
        "Модель элемента данных"
      ]
    },
    {
      "cell_type": "code",
      "execution_count": 3,
      "metadata": {
        "id": "Rv-XIjhTJPx3"
      },
      "outputs": [],
      "source": [
        "class User(NamedTuple):\n",
        "  id: int\n",
        "  age: str\n",
        "  social_contacts: int\n",
        "  gender: str"
      ]
    },
    {
      "cell_type": "code",
      "execution_count": 4,
      "metadata": {
        "id": "5KV0Ze2vQgu5"
      },
      "outputs": [],
      "source": [
        "input_collection = [\n",
        "    User(id=0, age=55, gender='male', social_contacts=20),\n",
        "    User(id=1, age=25, gender='female', social_contacts=240),\n",
        "    User(id=2, age=25, gender='female', social_contacts=500),\n",
        "    User(id=3, age=33, gender='female', social_contacts=800)\n",
        "]"
      ]
    },
    {
      "cell_type": "markdown",
      "metadata": {
        "id": "YFeqzyZxZIFZ"
      },
      "source": [
        "Функция RECORDREADER моделирует чтение элементов с диска или по сети."
      ]
    },
    {
      "cell_type": "code",
      "execution_count": 5,
      "metadata": {
        "id": "S5HR4E_GQoMJ"
      },
      "outputs": [],
      "source": [
        "def RECORDREADER():\n",
        "  return [(u.id, u) for u in input_collection]"
      ]
    },
    {
      "cell_type": "code",
      "execution_count": 6,
      "metadata": {
        "colab": {
          "base_uri": "https://localhost:8080/"
        },
        "id": "NeEoWla-ROUy",
        "outputId": "008a7f33-3536-4db1-d53d-1934e5d4af05"
      },
      "outputs": [
        {
          "data": {
            "text/plain": [
              "[(0, User(id=0, age=55, social_contacts=20, gender='male')),\n",
              " (1, User(id=1, age=25, social_contacts=240, gender='female')),\n",
              " (2, User(id=2, age=25, social_contacts=500, gender='female')),\n",
              " (3, User(id=3, age=33, social_contacts=800, gender='female'))]"
            ]
          },
          "execution_count": 6,
          "metadata": {},
          "output_type": "execute_result"
        }
      ],
      "source": [
        "list(RECORDREADER())"
      ]
    },
    {
      "cell_type": "code",
      "execution_count": 7,
      "metadata": {
        "id": "YB8orgPSZs8M"
      },
      "outputs": [],
      "source": [
        "def flatten(nested_iterable):\n",
        "  for iterable in nested_iterable:\n",
        "    for element in iterable:\n",
        "      yield element"
      ]
    },
    {
      "cell_type": "code",
      "execution_count": 8,
      "metadata": {
        "colab": {
          "base_uri": "https://localhost:8080/"
        },
        "id": "74oyvDLaRmd5",
        "outputId": "1cc7258a-acd9-419c-b82d-dbd1447933ba"
      },
      "outputs": [
        {
          "data": {
            "text/plain": [
              "[(25, User(id=1, age=25, social_contacts=240, gender='female')),\n",
              " (25, User(id=2, age=25, social_contacts=500, gender='female')),\n",
              " (33, User(id=3, age=33, social_contacts=800, gender='female'))]"
            ]
          },
          "execution_count": 8,
          "metadata": {},
          "output_type": "execute_result"
        }
      ],
      "source": [
        "map_output = flatten(map(lambda x: MAP(*x), RECORDREADER()))\n",
        "map_output = list(map_output) # materialize\n",
        "map_output"
      ]
    },
    {
      "cell_type": "code",
      "execution_count": 9,
      "metadata": {
        "id": "8ncYDJ3-VzDn"
      },
      "outputs": [],
      "source": [
        "def groupbykey(iterable):\n",
        "  t = {}\n",
        "  for (k2, v2) in iterable:\n",
        "    t[k2] = t.get(k2, []) + [v2]\n",
        "  return t.items()"
      ]
    },
    {
      "cell_type": "code",
      "execution_count": 10,
      "metadata": {
        "colab": {
          "base_uri": "https://localhost:8080/"
        },
        "id": "cKzY_6COWOA2",
        "outputId": "0cb33957-5aba-4ed4-bc46-810675a2102d"
      },
      "outputs": [
        {
          "data": {
            "text/plain": [
              "[(25,\n",
              "  [User(id=1, age=25, social_contacts=240, gender='female'),\n",
              "   User(id=2, age=25, social_contacts=500, gender='female')]),\n",
              " (33, [User(id=3, age=33, social_contacts=800, gender='female')])]"
            ]
          },
          "execution_count": 10,
          "metadata": {},
          "output_type": "execute_result"
        }
      ],
      "source": [
        "shuffle_output = groupbykey(map_output)\n",
        "shuffle_output = list(shuffle_output)\n",
        "shuffle_output"
      ]
    },
    {
      "cell_type": "code",
      "execution_count": 11,
      "metadata": {
        "colab": {
          "base_uri": "https://localhost:8080/"
        },
        "id": "NlA7lkDDYL0t",
        "outputId": "4f48cbf7-f0da-433c-97a2-ae53f0ad9314"
      },
      "outputs": [
        {
          "data": {
            "text/plain": [
              "[(25, 370.0), (33, 800.0)]"
            ]
          },
          "execution_count": 11,
          "metadata": {},
          "output_type": "execute_result"
        }
      ],
      "source": [
        "reduce_output = flatten(map(lambda x: REDUCE(*x), shuffle_output))\n",
        "reduce_output = list(reduce_output)\n",
        "reduce_output"
      ]
    },
    {
      "cell_type": "markdown",
      "metadata": {
        "id": "xf6qhHEtd6bI"
      },
      "source": [
        "Все действия одним конвейером!"
      ]
    },
    {
      "cell_type": "code",
      "execution_count": 12,
      "metadata": {
        "colab": {
          "base_uri": "https://localhost:8080/"
        },
        "id": "dZaQGYxCdpw5",
        "outputId": "2dddd8d3-4097-4ed2-e8ea-ea135d5cba51"
      },
      "outputs": [
        {
          "data": {
            "text/plain": [
              "[(25, 370.0), (33, 800.0)]"
            ]
          },
          "execution_count": 12,
          "metadata": {},
          "output_type": "execute_result"
        }
      ],
      "source": [
        "list(flatten(map(lambda x: REDUCE(*x), groupbykey(flatten(map(lambda x: MAP(*x), RECORDREADER()))))))"
      ]
    },
    {
      "cell_type": "markdown",
      "metadata": {
        "id": "Vq3EWRIpwSiJ"
      },
      "source": [
        "# **MapReduce**\n",
        "Выделим общую для всех пользователей часть системы в отдельную функцию высшего порядка. Это наиболее простая модель MapReduce, без учёта распределённого хранения данных.\n",
        "\n",
        "Пользователь для решения своей задачи реализует RECORDREADER, MAP, REDUCE."
      ]
    },
    {
      "cell_type": "code",
      "execution_count": 13,
      "metadata": {
        "id": "V1PZeQMwwVjc"
      },
      "outputs": [],
      "source": [
        "def flatten(nested_iterable):\n",
        "  for iterable in nested_iterable:\n",
        "    for element in iterable:\n",
        "      yield element\n",
        "\n",
        "def groupbykey(iterable):\n",
        "  t = {}\n",
        "  for (k2, v2) in iterable:\n",
        "    t[k2] = t.get(k2, []) + [v2]\n",
        "  return t.items()\n",
        "\n",
        "def MapReduce(RECORDREADER, MAP, REDUCE):\n",
        "  return flatten(map(lambda x: REDUCE(*x), groupbykey(flatten(map(lambda x: MAP(*x), RECORDREADER())))))"
      ]
    },
    {
      "cell_type": "markdown",
      "metadata": {
        "id": "iFIVrimep678"
      },
      "source": [
        "## Спецификация MapReduce\n",
        "\n",
        "\n",
        "\n",
        "```\n",
        "f (k1, v1) -> (k2,v2)*\n",
        "g (k2, v2*) -> (k3,v3)*\n",
        "\n",
        "mapreduce ((k1,v1)*) -> (k3,v3)*\n",
        "groupby ((k2,v2)*) -> (k2,v2*)*\n",
        "flatten (e2**) -> e2*\n",
        "\n",
        "mapreduce .map(f).flatten.groupby(k2).map(g).flatten\n",
        "```\n",
        "\n",
        "\n"
      ]
    },
    {
      "cell_type": "markdown",
      "metadata": {
        "id": "QtTFyqke3KGe"
      },
      "source": [
        "# Примеры"
      ]
    },
    {
      "cell_type": "markdown",
      "metadata": {
        "id": "BNhh5763w5Vn"
      },
      "source": [
        "## SQL"
      ]
    },
    {
      "cell_type": "code",
      "execution_count": 14,
      "metadata": {
        "colab": {
          "base_uri": "https://localhost:8080/"
        },
        "id": "QkyurnvGxBGk",
        "outputId": "73d0644e-a37a-4390-cb6f-712860e96dbb"
      },
      "outputs": [
        {
          "data": {
            "text/plain": [
              "[(25, 370.0), (33, 800.0)]"
            ]
          },
          "execution_count": 14,
          "metadata": {},
          "output_type": "execute_result"
        }
      ],
      "source": [
        "from typing import NamedTuple # requires python 3.6+\n",
        "from typing import Iterator\n",
        "\n",
        "class User(NamedTuple):\n",
        "  id: int\n",
        "  age: str\n",
        "  social_contacts: int\n",
        "  gender: str\n",
        "\n",
        "input_collection = [\n",
        "    User(id=0, age=55, gender='male', social_contacts=20),\n",
        "    User(id=1, age=25, gender='female', social_contacts=240),\n",
        "    User(id=2, age=25, gender='female', social_contacts=500),\n",
        "    User(id=3, age=33, gender='female', social_contacts=800)\n",
        "]\n",
        "\n",
        "def MAP(_, row:NamedTuple):\n",
        "  if (row.gender == 'female'):\n",
        "    yield (row.age, row)\n",
        "\n",
        "def REDUCE(age:str, rows:Iterator[NamedTuple]):\n",
        "  sum = 0\n",
        "  count = 0\n",
        "  for row in rows:\n",
        "    sum += row.social_contacts\n",
        "    count += 1\n",
        "  if (count > 0):\n",
        "    yield (age, sum/count)\n",
        "  else:\n",
        "    yield (age, 0)\n",
        "\n",
        "def RECORDREADER():\n",
        "  return [(u.id, u) for u in input_collection]\n",
        "\n",
        "output = MapReduce(RECORDREADER, MAP, REDUCE)\n",
        "output = list(output)\n",
        "output"
      ]
    },
    {
      "cell_type": "markdown",
      "metadata": {
        "id": "kNKYIeerx0nY"
      },
      "source": [
        "## Matrix-Vector multiplication"
      ]
    },
    {
      "cell_type": "code",
      "execution_count": 15,
      "metadata": {
        "colab": {
          "base_uri": "https://localhost:8080/"
        },
        "id": "rwcntRcCyi1V",
        "outputId": "136640ee-80d2-4ea8-e9fd-f1ea37ef8294"
      },
      "outputs": [
        {
          "data": {
            "text/plain": [
              "[(0, np.float64(2.149835093918524)),\n",
              " (1, np.float64(2.149835093918524)),\n",
              " (2, np.float64(2.149835093918524)),\n",
              " (3, np.float64(2.149835093918524)),\n",
              " (4, np.float64(2.149835093918524))]"
            ]
          },
          "execution_count": 15,
          "metadata": {},
          "output_type": "execute_result"
        }
      ],
      "source": [
        "from typing import Iterator\n",
        "from typing import Tuple\n",
        "import numpy as np\n",
        "\n",
        "mat = np.ones((5,4))\n",
        "vec = np.random.rand(4) # in-memory vector in all map tasks\n",
        "\n",
        "def MAP(coordinates:(int, int), value:int):\n",
        "  i, j = coordinates\n",
        "  yield (i, value*vec[j])\n",
        "\n",
        "def REDUCE(i:int, products:Iterator[NamedTuple]):\n",
        "  sum = 0\n",
        "  for p in products:\n",
        "    sum += p\n",
        "  yield (i, sum)\n",
        "\n",
        "def RECORDREADER():\n",
        "  for i in range(mat.shape[0]):\n",
        "    for j in range(mat.shape[1]):\n",
        "      yield ((i, j), mat[i,j])\n",
        "\n",
        "output = MapReduce(RECORDREADER, MAP, REDUCE)\n",
        "output = list(output)\n",
        "output"
      ]
    },
    {
      "cell_type": "markdown",
      "metadata": {
        "id": "ruZREYdi2o4O"
      },
      "source": [
        "## Inverted index"
      ]
    },
    {
      "cell_type": "code",
      "execution_count": 45,
      "metadata": {
        "colab": {
          "base_uri": "https://localhost:8080/"
        },
        "id": "vt9H9Alf3TYv",
        "outputId": "f966a7cd-15f9-4d95-9c69-1dd4e9bc174b"
      },
      "outputs": [
        {
          "data": {
            "text/plain": [
              "[('what', ['0', '1']),\n",
              " ('it', ['0', '1', '2']),\n",
              " ('is', ['0', '1', '2']),\n",
              " ('a', ['2']),\n",
              " ('banana', ['2'])]"
            ]
          },
          "execution_count": 45,
          "metadata": {},
          "output_type": "execute_result"
        }
      ],
      "source": [
        "from typing import Iterator\n",
        "\n",
        "d1 = \"it is what it is\"\n",
        "d2 = \"what is it\"\n",
        "d3 = \"it is a banana\"\n",
        "documents = [d1, d2, d3]\n",
        "\n",
        "def RECORDREADER():\n",
        "  for (docid, document) in enumerate(documents):\n",
        "    yield (\"{}\".format(docid), document)\n",
        "\n",
        "def MAP(docId:str, body:str):\n",
        "  for word in set(body.split(' ')):\n",
        "    yield (word, docId)\n",
        "\n",
        "def REDUCE(word:str, docIds:Iterator[str]):\n",
        "  yield (word, sorted(docIds))\n",
        "\n",
        "output = MapReduce(RECORDREADER, MAP, REDUCE)\n",
        "output = list(output)\n",
        "output"
      ]
    },
    {
      "cell_type": "markdown",
      "metadata": {
        "id": "R7az-6DA6qr2"
      },
      "source": [
        "## WordCount"
      ]
    },
    {
      "cell_type": "code",
      "execution_count": 17,
      "metadata": {
        "colab": {
          "base_uri": "https://localhost:8080/"
        },
        "id": "dN-nbtgG6uYG",
        "outputId": "d291fe27-1a30-40e9-90da-3a3303bcceb9"
      },
      "outputs": [
        {
          "data": {
            "text/plain": [
              "[('', 3), ('it', 9), ('is', 9), ('what', 5), ('a', 1), ('banana', 1)]"
            ]
          },
          "execution_count": 17,
          "metadata": {},
          "output_type": "execute_result"
        }
      ],
      "source": [
        "from typing import Iterator\n",
        "\n",
        "d1 = \"\"\"\n",
        "it is what it is\n",
        "it is what it is\n",
        "it is what it is\"\"\"\n",
        "d2 = \"\"\"\n",
        "what is it\n",
        "what is it\"\"\"\n",
        "d3 = \"\"\"\n",
        "it is a banana\"\"\"\n",
        "documents = [d1, d2, d3]\n",
        "\n",
        "def RECORDREADER():\n",
        "  for (docid, document) in enumerate(documents):\n",
        "    for (lineid, line) in enumerate(document.split('\\n')):\n",
        "      yield (\"{}:{}\".format(docid,lineid), line)\n",
        "\n",
        "def MAP(docId:str, line:str):\n",
        "  for word in line.split(\" \"):\n",
        "    yield (word, 1)\n",
        "\n",
        "def REDUCE(word:str, counts:Iterator[int]):\n",
        "  sum = 0\n",
        "  for c in counts:\n",
        "    sum += c\n",
        "  yield (word, sum)\n",
        "\n",
        "output = MapReduce(RECORDREADER, MAP, REDUCE)\n",
        "output = list(output)\n",
        "output"
      ]
    },
    {
      "cell_type": "markdown",
      "metadata": {
        "id": "h-jRAcYCAkkk"
      },
      "source": [
        "# MapReduce Distributed\n",
        "\n",
        "Добавляется в модель фабрика RECORDREARER-ов --- INPUTFORMAT, функция распределения промежуточных результатов по партициям PARTITIONER, и функция COMBINER для частичной аггрегации промежуточных результатов до распределения по новым партициям."
      ]
    },
    {
      "cell_type": "code",
      "execution_count": 18,
      "metadata": {
        "id": "nw-b-xJsApgW"
      },
      "outputs": [],
      "source": [
        "def flatten(nested_iterable):\n",
        "  for iterable in nested_iterable:\n",
        "    for element in iterable:\n",
        "      yield element\n",
        "\n",
        "def groupbykey(iterable):\n",
        "  t = {}\n",
        "  for (k2, v2) in iterable:\n",
        "    t[k2] = t.get(k2, []) + [v2]\n",
        "  return t.items()\n",
        "\n",
        "def groupbykey_distributed(map_partitions, PARTITIONER):\n",
        "  global reducers\n",
        "  partitions = [dict() for _ in range(reducers)]\n",
        "  for map_partition in map_partitions:\n",
        "    for (k2, v2) in map_partition:\n",
        "      p = partitions[PARTITIONER(k2)]\n",
        "      p[k2] = p.get(k2, []) + [v2]\n",
        "  return [(partition_id, sorted(partition.items(), key=lambda x: x[0])) for (partition_id, partition) in enumerate(partitions)]\n",
        "\n",
        "def PARTITIONER(obj):\n",
        "  global reducers\n",
        "  return hash(obj) % reducers\n",
        "\n",
        "def MapReduceDistributed(INPUTFORMAT, MAP, REDUCE, PARTITIONER=PARTITIONER, COMBINER=None):\n",
        "  map_partitions = map(lambda record_reader: flatten(map(lambda k1v1: MAP(*k1v1), record_reader)), INPUTFORMAT())\n",
        "  if COMBINER != None:\n",
        "    map_partitions = map(lambda map_partition: flatten(map(lambda k2v2: COMBINER(*k2v2), groupbykey(map_partition))), map_partitions)\n",
        "  reduce_partitions = groupbykey_distributed(map_partitions, PARTITIONER) # shuffle\n",
        "  reduce_outputs = map(lambda reduce_partition: (reduce_partition[0], flatten(map(lambda reduce_input_group: REDUCE(*reduce_input_group), reduce_partition[1]))), reduce_partitions)\n",
        "\n",
        "  print(\"{} key-value pairs were sent over a network.\".format(sum([len(vs) for (k,vs) in flatten([partition for (partition_id, partition) in reduce_partitions])])))\n",
        "  return reduce_outputs"
      ]
    },
    {
      "cell_type": "markdown",
      "metadata": {
        "id": "kxirlf3XqZxY"
      },
      "source": [
        "## Спецификация MapReduce Distributed\n",
        "\n",
        "\n",
        "```\n",
        "f (k1, v1) -> (k2,v2)*\n",
        "g (k2, v2*) -> (k3,v3)*\n",
        "\n",
        "e1 (k1, v1)\n",
        "e2 (k2, v2)\n",
        "partition1 (k2, v2)*\n",
        "partition2 (k2, v2*)*\n",
        "\n",
        "flatmap (e1->e2*, e1*) -> partition1*\n",
        "groupby (partition1*) -> partition2*\n",
        "\n",
        "mapreduce ((k1,v1)*) -> (k3,v3)*\n",
        "mapreduce .flatmap(f).groupby(k2).flatmap(g)\n",
        "```\n",
        "\n"
      ]
    },
    {
      "cell_type": "markdown",
      "metadata": {
        "id": "CWYw_CpbbY3C"
      },
      "source": [
        "## WordCount"
      ]
    },
    {
      "cell_type": "code",
      "execution_count": 19,
      "metadata": {
        "colab": {
          "base_uri": "https://localhost:8080/"
        },
        "id": "uR_zfGFkMZlp",
        "outputId": "a67f1813-0fa7-4fc2-b968-24b9bfc9aaf1"
      },
      "outputs": [
        {
          "name": "stdout",
          "output_type": "stream",
          "text": [
            "56 key-value pairs were sent over a network.\n"
          ]
        },
        {
          "data": {
            "text/plain": [
              "[(0, [('', 6), ('is', 18), ('what', 10)]),\n",
              " (1, [('a', 2), ('banana', 2), ('it', 18)])]"
            ]
          },
          "execution_count": 19,
          "metadata": {},
          "output_type": "execute_result"
        }
      ],
      "source": [
        "from typing import Iterator\n",
        "import numpy as np\n",
        "\n",
        "d1 = \"\"\"\n",
        "it is what it is\n",
        "it is what it is\n",
        "it is what it is\"\"\"\n",
        "d2 = \"\"\"\n",
        "what is it\n",
        "what is it\"\"\"\n",
        "d3 = \"\"\"\n",
        "it is a banana\"\"\"\n",
        "documents = [d1, d2, d3, d1, d2, d3]\n",
        "\n",
        "maps = 3\n",
        "reducers = 2\n",
        "\n",
        "def INPUTFORMAT():\n",
        "  global maps\n",
        "\n",
        "  def RECORDREADER(split):\n",
        "    for (docid, document) in enumerate(split):\n",
        "      for (lineid, line) in enumerate(document.split('\\n')):\n",
        "        yield (\"{}:{}\".format(docid,lineid), line)\n",
        "\n",
        "  split_size =  int(np.ceil(len(documents)/maps))\n",
        "  for i in range(0, len(documents), split_size):\n",
        "    yield RECORDREADER(documents[i:i+split_size])\n",
        "\n",
        "def MAP(docId:str, line:str):\n",
        "  for word in line.split(\" \"):\n",
        "    yield (word, 1)\n",
        "\n",
        "def REDUCE(word:str, counts:Iterator[int]):\n",
        "  sum = 0\n",
        "  for c in counts:\n",
        "    sum += c\n",
        "  yield (word, sum)\n",
        "\n",
        "# try to set COMBINER=REDUCER and look at the number of values sent over the network\n",
        "partitioned_output = MapReduceDistributed(INPUTFORMAT, MAP, REDUCE, COMBINER=None)\n",
        "partitioned_output = [(partition_id, list(partition)) for (partition_id, partition) in partitioned_output]\n",
        "partitioned_output"
      ]
    },
    {
      "cell_type": "markdown",
      "metadata": {
        "id": "gCJGx8IQ87xS"
      },
      "source": [
        "## TeraSort"
      ]
    },
    {
      "cell_type": "code",
      "execution_count": 20,
      "metadata": {
        "colab": {
          "base_uri": "https://localhost:8080/"
        },
        "id": "P2v8v1v_8_YR",
        "outputId": "05027b28-b2e7-42e1-ee82-9f8457f09a56"
      },
      "outputs": [
        {
          "name": "stdout",
          "output_type": "stream",
          "text": [
            "30 key-value pairs were sent over a network.\n"
          ]
        },
        {
          "data": {
            "text/plain": [
              "[(0,\n",
              "  [(None, np.float64(0.030572911145332005)),\n",
              "   (None, np.float64(0.036062158403462496)),\n",
              "   (None, np.float64(0.04457723347824638)),\n",
              "   (None, np.float64(0.046890279064849105)),\n",
              "   (None, np.float64(0.07804023876263311)),\n",
              "   (None, np.float64(0.10955808998649152)),\n",
              "   (None, np.float64(0.1522539311119635)),\n",
              "   (None, np.float64(0.17581622124248597)),\n",
              "   (None, np.float64(0.23519190649320398)),\n",
              "   (None, np.float64(0.2594412034999731)),\n",
              "   (None, np.float64(0.27380707093181766)),\n",
              "   (None, np.float64(0.2761822931299619)),\n",
              "   (None, np.float64(0.31280897844810296)),\n",
              "   (None, np.float64(0.3390027622845041)),\n",
              "   (None, np.float64(0.3468146881085399)),\n",
              "   (None, np.float64(0.40712234481009835)),\n",
              "   (None, np.float64(0.42115975982117193)),\n",
              "   (None, np.float64(0.4246875121378991))]),\n",
              " (1,\n",
              "  [(None, np.float64(0.5267993605172963)),\n",
              "   (None, np.float64(0.5966749597334741)),\n",
              "   (None, np.float64(0.6296925107522219)),\n",
              "   (None, np.float64(0.6894800436829632)),\n",
              "   (None, np.float64(0.7029247751716005)),\n",
              "   (None, np.float64(0.7061379904140551)),\n",
              "   (None, np.float64(0.7183091695502999)),\n",
              "   (None, np.float64(0.7963638560304497)),\n",
              "   (None, np.float64(0.8078077745934864)),\n",
              "   (None, np.float64(0.8460712114290894)),\n",
              "   (None, np.float64(0.9304521733177156)),\n",
              "   (None, np.float64(0.9779948386065704))])]"
            ]
          },
          "execution_count": 20,
          "metadata": {},
          "output_type": "execute_result"
        }
      ],
      "source": [
        "import numpy as np\n",
        "\n",
        "input_values = np.random.rand(30)\n",
        "maps = 3\n",
        "reducers = 2\n",
        "min_value = 0.0\n",
        "max_value = 1.0\n",
        "\n",
        "def INPUTFORMAT():\n",
        "  global maps\n",
        "\n",
        "  def RECORDREADER(split):\n",
        "    for value in split:\n",
        "        yield (value, None)\n",
        "\n",
        "  split_size =  int(np.ceil(len(input_values)/maps))\n",
        "  for i in range(0, len(input_values), split_size):\n",
        "    yield RECORDREADER(input_values[i:i+split_size])\n",
        "\n",
        "def MAP(value:int, _):\n",
        "  yield (value, None)\n",
        "\n",
        "def PARTITIONER(key):\n",
        "  global reducers\n",
        "  global max_value\n",
        "  global min_value\n",
        "  bucket_size = (max_value-min_value)/reducers\n",
        "  bucket_id = 0\n",
        "  while((key>(bucket_id+1)*bucket_size) and ((bucket_id+1)*bucket_size<max_value)):\n",
        "    bucket_id += 1\n",
        "  return bucket_id\n",
        "\n",
        "def REDUCE(value:int, _):\n",
        "  yield (None,value)\n",
        "\n",
        "partitioned_output = MapReduceDistributed(INPUTFORMAT, MAP, REDUCE, COMBINER=None, PARTITIONER=PARTITIONER)\n",
        "partitioned_output = [(partition_id, list(partition)) for (partition_id, partition) in partitioned_output]\n",
        "partitioned_output"
      ]
    },
    {
      "cell_type": "code",
      "execution_count": null,
      "metadata": {
        "id": "MQhoJaVZI93G"
      },
      "outputs": [],
      "source": []
    },
    {
      "cell_type": "markdown",
      "metadata": {
        "id": "Iy65YJTH99iT"
      },
      "source": [
        "# Упражнения\n",
        "Упражнения взяты из Rajaraman A., Ullman J. D. Mining of massive datasets. – Cambridge University Press, 2011.\n",
        "\n",
        "\n",
        "Для выполнения заданий переопределите функции RECORDREADER, MAP, REDUCE. Для модели распределённой системы может потребоваться переопределение функций PARTITION и COMBINER."
      ]
    },
    {
      "cell_type": "markdown",
      "metadata": {
        "id": "cfvAeZm3S8S8"
      },
      "source": [
        "### Максимальное значение ряда\n",
        "\n",
        "Разработайте MapReduce алгоритм, который находит максимальное число входного списка чисел."
      ]
    },
    {
      "cell_type": "code",
      "execution_count": 21,
      "metadata": {
        "colab": {
          "base_uri": "https://localhost:8080/"
        },
        "id": "3GRA1JR-Tkbg",
        "outputId": "04e1e1b8-14cd-4932-95ec-d88d5d11afd6"
      },
      "outputs": [
        {
          "data": {
            "text/plain": [
              "[(0, 5), (1, 4), (2, 5.1)]"
            ]
          },
          "execution_count": 21,
          "metadata": {},
          "output_type": "execute_result"
        }
      ],
      "source": [
        "vec1 = [0,   1,   2,   3,   4,   5]\n",
        "vec2 = [4,   3,   2,   1,   0,  -1]\n",
        "vec3 = [0.5, 1.5, 2.5, 3.6, 4.7, 5.1]\n",
        "\n",
        "def MAP(idx, elem):\n",
        "    i,j = idx\n",
        "    yield i, elem\n",
        "\n",
        "def REDUCE(i:int, products:Iterator[list]):\n",
        "  max = products[0]\n",
        "  for p in products:\n",
        "    if max < p:\n",
        "        max = p\n",
        "  yield i,max\n",
        "\n",
        "def RECORDREADER():\n",
        "  for i in range(3):\n",
        "    for j in range(len(vec1)):\n",
        "        yield ((i,j), (vec1,vec2,vec3)[i][j])\n",
        "\n",
        "def MapReduce(RECORDREADER, MAP, REDUCE):\n",
        "  return flatten(map(lambda x: REDUCE(*x), groupbykey(flatten(map(lambda x: MAP(*x), RECORDREADER())))))\n",
        "\n",
        "output = MapReduce(RECORDREADER, MAP, REDUCE)\n",
        "output = list(output)\n",
        "output"
      ]
    },
    {
      "cell_type": "markdown",
      "metadata": {
        "id": "k86bXnqZTk-U"
      },
      "source": [
        "### Арифметическое среднее\n",
        "\n",
        "Разработайте MapReduce алгоритм, который находит арифметическое среднее.\n",
        "\n",
        "$$\\overline{X} = \\frac{1}{n}\\sum_{i=0}^{n} x_i$$\n"
      ]
    },
    {
      "cell_type": "code",
      "execution_count": 22,
      "metadata": {
        "colab": {
          "base_uri": "https://localhost:8080/"
        },
        "id": "MPoY5pkfUNZf",
        "outputId": "39659d1b-0b34-4538-97c5-35a9bf760545"
      },
      "outputs": [
        {
          "data": {
            "text/plain": [
              "[(0, 2.5), (1, 1.5), (2, 2.983333333333333)]"
            ]
          },
          "execution_count": 22,
          "metadata": {},
          "output_type": "execute_result"
        }
      ],
      "source": [
        "vec1 = [0,   1,   2,   3,   4,   5]\n",
        "vec2 = [4,   3,   2,   1,   0,  -1]\n",
        "vec3 = [0.5, 1.5, 2.5, 3.6, 4.7, 5.1]\n",
        "\n",
        "def MAP(idx, elem):\n",
        "    i,j = idx\n",
        "    yield i, elem\n",
        "\n",
        "def REDUCE(i:int, products:Iterator[list]):\n",
        "  s = 0\n",
        "  for p in products:\n",
        "    s+=p\n",
        "  yield i, s/len(products)\n",
        "\n",
        "def RECORDREADER():\n",
        "  for i in range(3):\n",
        "    for j in range(len(vec1)):\n",
        "        yield ((i,j), (vec1,vec2,vec3)[i][j])\n",
        "\n",
        "def MapReduce(RECORDREADER, MAP, REDUCE):\n",
        "  return flatten(map(lambda x: REDUCE(*x), groupbykey(flatten(map(lambda x: MAP(*x), RECORDREADER())))))\n",
        "\n",
        "output = MapReduce(RECORDREADER, MAP, REDUCE)\n",
        "output = list(output)\n",
        "output"
      ]
    },
    {
      "cell_type": "markdown",
      "metadata": {
        "id": "xanzszhsIlLe"
      },
      "source": [
        "### GroupByKey на основе сортировки\n",
        "\n",
        "Реализуйте groupByKey на основе сортировки, проверьте его работу на примерах"
      ]
    },
    {
      "cell_type": "code",
      "execution_count": 23,
      "metadata": {
        "id": "NXbTb5v8sbKc"
      },
      "outputs": [],
      "source": [
        "def MAP(_, row:NamedTuple):\n",
        "  if (row.gender == 'female'):\n",
        "    yield (row.age, row)\n",
        "\n",
        "def REDUCE(age:str, rows:Iterator[NamedTuple]):\n",
        "  sum = 0\n",
        "  count = 0\n",
        "  for row in rows:\n",
        "    sum += row.social_contacts\n",
        "    count += 1\n",
        "  if (count > 0):\n",
        "    yield (age, sum/count)\n",
        "  else:\n",
        "    yield (age, 0)\n",
        "\n",
        "def RECORDREADER():\n",
        "  return [(u.id, u) for u in input_collection]\n",
        "\n",
        "class User(NamedTuple):\n",
        "  id: int\n",
        "  age: str\n",
        "  social_contacts: int\n",
        "  gender: str"
      ]
    },
    {
      "cell_type": "code",
      "execution_count": 24,
      "metadata": {
        "colab": {
          "base_uri": "https://localhost:8080/"
        },
        "id": "hQPn3USsIkEC",
        "outputId": "11d0fe1c-ffcb-408b-dc03-42cbdc1d15d2"
      },
      "outputs": [
        {
          "name": "stdout",
          "output_type": "stream",
          "text": [
            "[(55, User(id=0, age=55, social_contacts=20, gender='female')), (25, User(id=1, age=25, social_contacts=240, gender='female')), (25, User(id=2, age=25, social_contacts=500, gender='female')), (33, User(id=3, age=33, social_contacts=800, gender='female'))]\n"
          ]
        },
        {
          "data": {
            "text/plain": [
              "{25: [User(id=1, age=25, social_contacts=240, gender='female'),\n",
              "  User(id=2, age=25, social_contacts=500, gender='female')],\n",
              " 33: [User(id=3, age=33, social_contacts=800, gender='female')],\n",
              " 55: [User(id=0, age=55, social_contacts=20, gender='female')]}"
            ]
          },
          "execution_count": 24,
          "metadata": {},
          "output_type": "execute_result"
        }
      ],
      "source": [
        "def groupbykey(iterable):\n",
        "    # Сортируем входные данные по ключу\n",
        "    sorted_iterable = sorted(iterable, key=lambda x: x[0])\n",
        "\n",
        "    output = dict()\n",
        "\n",
        "    for (key, val) in sorted_iterable:\n",
        "        # Добавляем значение к соответствующему ключу\n",
        "        if key not in output:\n",
        "            output[key] = list()\n",
        "        output[key].append(val)\n",
        "\n",
        "    return output\n",
        "\n",
        "\n",
        "input_collection = [\n",
        "    User(id=0, age=55, gender='female', social_contacts=20),\n",
        "    User(id=1, age=25, gender='female', social_contacts=240),\n",
        "    User(id=2, age=25, gender='female', social_contacts=500),\n",
        "    User(id=3, age=33, gender='female', social_contacts=800)\n",
        "]\n",
        "\n",
        "def RECORDREADER():\n",
        "  return [(u.id, u) for u in input_collection]\n",
        "\n",
        "map_output = flatten(map(lambda x: MAP(*x), RECORDREADER()))\n",
        "map_output = list(map_output) # materialize\n",
        "print(map_output)\n",
        "groupbykey(map_output)"
      ]
    },
    {
      "cell_type": "markdown",
      "metadata": {
        "id": "5SgEjCZyGnu6"
      },
      "source": [
        "### Drop duplicates (set construction, unique elements, distinct)\n",
        "\n",
        "Реализуйте распределённую операцию исключения дубликатов"
      ]
    },
    {
      "cell_type": "code",
      "execution_count": 25,
      "metadata": {
        "id": "okjbyApjGhMt"
      },
      "outputs": [],
      "source": [
        "def flatten(nested_iterable):\n",
        "  for iterable in nested_iterable:\n",
        "    for element in iterable:\n",
        "      yield element\n",
        "\n",
        "def groupbykey(iterable):\n",
        "  t = {}\n",
        "  for (k2, v2) in iterable:\n",
        "    t[k2] = t.get(k2, []) + [v2]\n",
        "  return t.items()\n",
        "\n",
        "def groupbykey_distributed(map_partitions, PARTITIONER):\n",
        "  global reducers\n",
        "  partitions = [dict() for _ in range(reducers)]\n",
        "  for map_partition in map_partitions:\n",
        "    for (k2, v2) in map_partition:\n",
        "      p = partitions[PARTITIONER(k2)]\n",
        "      p[k2] = p.get(k2, []) + [v2]\n",
        "  return [(partition_id, sorted(partition.items(), key=lambda x: x[0])) for (partition_id, partition) in enumerate(partitions)]\n",
        "\n",
        "def PARTITIONER(obj):\n",
        "  global reducers\n",
        "  return hash(obj) % reducers\n",
        "\n",
        "def MapReduceDistributed(INPUTFORMAT, MAP, REDUCE, PARTITIONER=PARTITIONER, COMBINER=None):\n",
        "  map_partitions = map(lambda record_reader: flatten(map(lambda k1v1: MAP(*k1v1), record_reader)), INPUTFORMAT())\n",
        "  if COMBINER != None:\n",
        "    map_partitions = map(lambda map_partition: flatten(map(lambda k2v2: COMBINER(*k2v2), groupbykey(map_partition))), map_partitions)\n",
        "  reduce_partitions = groupbykey_distributed(map_partitions, PARTITIONER) # shuffle\n",
        "  reduce_outputs = map(lambda reduce_partition: (reduce_partition[0], flatten(map(lambda reduce_input_group: REDUCE(*reduce_input_group), reduce_partition[1]))), reduce_partitions)\n",
        "  return reduce_outputs"
      ]
    },
    {
      "cell_type": "code",
      "execution_count": 26,
      "metadata": {
        "colab": {
          "base_uri": "https://localhost:8080/"
        },
        "id": "vWcDs37Bbj1Y",
        "outputId": "c022b1dc-3b03-4a06-c7c2-664656e0b8e2"
      },
      "outputs": [
        {
          "name": "stdout",
          "output_type": "stream",
          "text": [
            "[('0:1', 'it is a banana'), ('1:1', 'it is a banana'), ('2:1', 'it is a banana')]\n"
          ]
        },
        {
          "data": {
            "text/plain": [
              "[(0, ['a', 'is', 'it']), (1, ['banana']), (2, ['what'])]"
            ]
          },
          "execution_count": 26,
          "metadata": {},
          "output_type": "execute_result"
        }
      ],
      "source": [
        "import numpy as np\n",
        "\n",
        "d1 = \"\"\"\n",
        "it is what it is\n",
        "it is what it is\n",
        "it is what it is\"\"\"\n",
        "d2 = \"\"\"\n",
        "what is it\n",
        "what is it\"\"\"\n",
        "d3 = \"\"\"\n",
        "it is a banana\"\"\"\n",
        "documents = [d1, d2, d2, d3, d3, d3]\n",
        "\n",
        "\n",
        "maps = 2\n",
        "reducers = 3\n",
        "\n",
        "def INPUTFORMAT():\n",
        "  global maps\n",
        "\n",
        "  def RECORDREADER(split):\n",
        "    for (docid, document) in enumerate(split):\n",
        "      for (lineid, line) in enumerate(document.split('\\n')):\n",
        "        if line.strip():\n",
        "            yield (\"{}:{}\".format(docid,lineid), line)\n",
        "\n",
        "  split_size =  int(np.ceil(len(documents)/maps))\n",
        "  for i in range(0, len(documents), split_size):\n",
        "    yield RECORDREADER(documents[i:i+split_size])\n",
        "\n",
        "def MAP(docId:str, line:str):\n",
        "  for word in line.split():\n",
        "    if word.strip():\n",
        "        yield (word, 0)\n",
        "\n",
        "def REDUCE(key:str, values):\n",
        "  yield key\n",
        "\n",
        "# try to set COMBINER=REDUCER and look at the number of values sent over the network\n",
        "print(list(list(INPUTFORMAT())[1]))\n",
        "partitioned_output = MapReduceDistributed(INPUTFORMAT, MAP, REDUCE)\n",
        "partitioned_output = [(partition_id, list(partition)) for (partition_id, partition) in partitioned_output]\n",
        "partitioned_output"
      ]
    },
    {
      "cell_type": "markdown",
      "metadata": {
        "id": "e7sRGoTXuJze"
      },
      "source": [
        "#Операторы реляционной алгебры\n",
        "### Selection (Выборка)\n",
        "\n",
        "**The Map Function**: Для  каждого кортежа $t \\in R$ вычисляется истинность предиката $C$. В случае истины создаётся пара ключ-значение $(t, t)$. В паре ключ и значение одинаковы, равны $t$.\n",
        "\n",
        "**The Reduce Function:** Роль функции Reduce выполняет функция идентичности, которая возвращает то же значение, что получила на вход.\n",
        "\n"
      ]
    },
    {
      "cell_type": "code",
      "execution_count": 27,
      "metadata": {
        "colab": {
          "base_uri": "https://localhost:8080/"
        },
        "id": "4nKIKe59uIfc",
        "outputId": "91b3c271-db82-43c7-83c0-2c2e5d95a69f"
      },
      "outputs": [
        {
          "name": "stdout",
          "output_type": "stream",
          "text": [
            "Кортежи, среднее значение которых > 2\n"
          ]
        },
        {
          "data": {
            "text/plain": [
              "[(0, 1, 2, 3, 4, 5), (0.5, 1.5, 2.5, 3.6, 4.7, 5.1)]"
            ]
          },
          "execution_count": 27,
          "metadata": {},
          "output_type": "execute_result"
        }
      ],
      "source": [
        "vec1 = (0,   1,   2,   3,   4,   5)\n",
        "vec2 = (4,   3,   2,   1,   0,  -1)\n",
        "vec3 = (0.5, 1.5, 2.5, 3.6, 4.7, 5.1)\n",
        "\n",
        "\n",
        "def bool_func(elems):\n",
        "    return bool(np.sum(elems)/len(elems)>2)\n",
        "\n",
        "def map_el(t):\n",
        "    dc = dict()\n",
        "    for elem in t:\n",
        "        if bool_func(elem):\n",
        "            dc[elem] = elem\n",
        "    return dc\n",
        "\n",
        "def reduce(mapped_t):\n",
        "    output = list()\n",
        "    for elem in mapped_t:\n",
        "        for val in elem:\n",
        "            output.append(val)\n",
        "    return output\n",
        "\n",
        "def record_reader():\n",
        "  return [vec1,vec2,vec3]\n",
        "\n",
        "\n",
        "\n",
        "\n",
        "print(\"Кортежи, среднее значение которых > 2\")\n",
        "output = reduce(list(map(map_el, [record_reader()])))\n",
        "output = list(output)\n",
        "output"
      ]
    },
    {
      "cell_type": "markdown",
      "metadata": {
        "id": "w27Ca-_Ku85V"
      },
      "source": [
        "### Projection (Проекция)\n",
        "\n",
        "Проекция на множество атрибутов $S$.\n",
        "\n",
        "**The Map Function:** Для каждого кортежа $t \\in R$ создайте кортеж $t′$, исключая  из $t$ те значения, атрибуты которых не принадлежат  $S$. Верните пару $(t′, t′)$.\n",
        "\n",
        "**The Reduce Function:** Для каждого ключа $t′$, созданного любой Map задачей, вы получаете одну или несколько пар $(t′, t′)$. Reduce функция преобразует $(t′, [t′, t′, . . . , t′])$ в $(t′, t′)$, так, что для ключа $t′$ возвращается одна пара  $(t′, t′)$."
      ]
    },
    {
      "cell_type": "code",
      "execution_count": 28,
      "metadata": {
        "colab": {
          "base_uri": "https://localhost:8080/"
        },
        "id": "BEvuY4GqvhS6",
        "outputId": "88058f6d-7456-4378-fee1-c7b2e2a4878a"
      },
      "outputs": [
        {
          "data": {
            "text/plain": [
              "[((0, 4, 5), (0, 4, 5)), ((4, 0), (4, 0)), ((), ())]"
            ]
          },
          "execution_count": 28,
          "metadata": {},
          "output_type": "execute_result"
        }
      ],
      "source": [
        "vec1 = (0,   1,   2,   3,   4,   5)\n",
        "vec2 = (4,   3,   2,   1,   0,  -1)\n",
        "vec3 = (0.5, 1.5, 2.5, 3.6, 4.7, 5.1)\n",
        "S = set([0,4,5])\n",
        "\n",
        "def exclude_vals(t):\n",
        "    return tuple([el for el in t if el in S])\n",
        "\n",
        "def map_el(t):\n",
        "    ex_t = exclude_vals(t)\n",
        "    return (ex_t, ex_t)\n",
        "\n",
        "def reduce(key, value):\n",
        "    return (key, key)\n",
        "\n",
        "def record_reader():\n",
        "    return [vec1,vec2,vec3]\n",
        "\n",
        "def groupbykey(iterable):\n",
        "    t = {}\n",
        "    for (k2, v2) in iterable:\n",
        "        t[k2] = t.get(k2, []) + [v2]\n",
        "    return list(t.items())\n",
        "\n",
        "\n",
        "output = map(lambda x: reduce(*x), groupbykey(map(map_el, record_reader())))\n",
        "output = list(output)\n",
        "output"
      ]
    },
    {
      "cell_type": "markdown",
      "metadata": {
        "id": "7gau6lKXvn2R"
      },
      "source": [
        "### Union (Объединение)\n",
        "\n",
        "**The Map Function:** Превратите каждый входной кортеж $t$ в пару ключ-значение $(t, t)$.\n",
        "\n",
        "**The Reduce Function:** С каждым ключом $t$ будет ассоциировано одно или два значений. В обоих случаях создайте $(t, t)$ в качестве выходного значения."
      ]
    },
    {
      "cell_type": "code",
      "execution_count": 29,
      "metadata": {
        "colab": {
          "base_uri": "https://localhost:8080/"
        },
        "id": "Sns7a5agv3nw",
        "outputId": "af2a9eec-376c-497d-a85b-aee136f86b7f"
      },
      "outputs": [
        {
          "data": {
            "text/plain": [
              "[((3, 1, 1), (3, 1, 1)),\n",
              " ((3, 3, 1), (3, 3, 1)),\n",
              " ((3, 4, 0), (3, 4, 0)),\n",
              " ((2, 4, 0), (2, 4, 0)),\n",
              " ((1, 0, 4), (1, 0, 4)),\n",
              " ((1, 2, 4), (1, 2, 4)),\n",
              " ((3, 1, 2), (3, 1, 2)),\n",
              " ((2, 0, 1), (2, 0, 1)),\n",
              " ((4, 3, 3), (4, 3, 3)),\n",
              " ((1, 3, 0), (1, 3, 0)),\n",
              " ((3, 4, 4), (3, 4, 4)),\n",
              " ((2, 0, 4), (2, 0, 4)),\n",
              " ((4, 0, 0), (4, 0, 0)),\n",
              " ((2, 2, 0), (2, 2, 0)),\n",
              " ((4, 1, 1), (4, 1, 1)),\n",
              " ((0, 0, 1), (0, 0, 1)),\n",
              " ((1, 4, 1), (1, 4, 1)),\n",
              " ((2, 3, 1), (2, 3, 1)),\n",
              " ((3, 1, 3), (3, 1, 3))]"
            ]
          },
          "execution_count": 29,
          "metadata": {},
          "output_type": "execute_result"
        }
      ],
      "source": [
        "import random\n",
        "\n",
        "def map_el(t):\n",
        "    return (t, t)\n",
        "\n",
        "def reduce(key, value):\n",
        "    return (key, key)\n",
        "\n",
        "def record_reader():\n",
        "    return [(random.randint(0, 4), random.randint(0, 4), random.randint(0, 4)) for i in range(20)]\n",
        "\n",
        "def groupbykey(iterable):\n",
        "    t = {}\n",
        "    for (k2, v2) in iterable:\n",
        "        t[k2] = t.get(k2, []) + [v2]\n",
        "    return list(t.items())\n",
        "\n",
        "\n",
        "output = map(lambda x: reduce(*x), groupbykey(map(map_el, record_reader())))\n",
        "output = list(output)\n",
        "output"
      ]
    },
    {
      "cell_type": "markdown",
      "metadata": {
        "id": "dQ8TuEbjv4J8"
      },
      "source": [
        "### Intersection (Пересечение)\n",
        "\n",
        "**The Map Function:** Превратите каждый кортеж $t$ в пары ключ-значение $(t, t)$.\n",
        "\n",
        "**The Reduce Function:** Если для ключа $t$ есть список из двух элементов $[t, t]$ $-$ создайте пару $(t, t)$. Иначе, ничего не создавайте."
      ]
    },
    {
      "cell_type": "code",
      "execution_count": 30,
      "metadata": {
        "colab": {
          "base_uri": "https://localhost:8080/"
        },
        "id": "XKlBZh4IwERR",
        "outputId": "b65140a8-aed5-4fdb-8b89-01091bc19c19"
      },
      "outputs": [
        {
          "data": {
            "text/plain": [
              "[None,\n",
              " None,\n",
              " None,\n",
              " None,\n",
              " None,\n",
              " None,\n",
              " None,\n",
              " None,\n",
              " None,\n",
              " None,\n",
              " None,\n",
              " None,\n",
              " None,\n",
              " None,\n",
              " None,\n",
              " ((1, 4, 0), (1, 4, 0)),\n",
              " None,\n",
              " None,\n",
              " None]"
            ]
          },
          "execution_count": 30,
          "metadata": {},
          "output_type": "execute_result"
        }
      ],
      "source": [
        "def map_el(t):\n",
        "    return (t, t)\n",
        "\n",
        "def reduce(key, value):\n",
        "    if len(value)==2:\n",
        "        return (key, key)\n",
        "\n",
        "def record_reader():\n",
        "    return [(random.randint(0, 4), random.randint(0, 4), random.randint(0, 4)) for i in range(20)]\n",
        "\n",
        "def groupbykey(iterable):\n",
        "    t = {}\n",
        "    for (k2, v2) in iterable:\n",
        "        t[k2] = t.get(k2, []) + [v2]\n",
        "    return list(t.items())\n",
        "\n",
        "\n",
        "output = map(lambda x: reduce(*x), groupbykey(map(map_el, record_reader())))\n",
        "output = list(output)\n",
        "output"
      ]
    },
    {
      "cell_type": "markdown",
      "metadata": {
        "id": "AVOpqoY3wE5k"
      },
      "source": [
        "### Difference (Разница)\n",
        "\n",
        "**The Map Function:** Для кортежа $t \\in R$, создайте пару $(t, R)$, и для кортежа $t \\in S$, создайте пару $(t, S)$. Задумка заключается в том, чтобы значение пары было именем отношения $R$ or $S$, которому принадлежит кортеж (а лучше, единичный бит, по которому можно два отношения различить $R$ or $S$), а не весь набор атрибутов отношения.\n",
        "\n",
        "**The Reduce Function:** Для каждого ключа $t$, если соответствующее значение является списком $[R]$, создайте пару $(t, t)$. В иных случаях не предпринимайте действий."
      ]
    },
    {
      "cell_type": "code",
      "execution_count": 31,
      "metadata": {
        "colab": {
          "base_uri": "https://localhost:8080/"
        },
        "id": "QE_AC09lwZIZ",
        "outputId": "ff87c06e-c661-4883-c35e-16cacec33d42"
      },
      "outputs": [
        {
          "data": {
            "text/plain": [
              "[((1, 4, 3), (1, 4, 3)),\n",
              " ((0, 0, 0), (0, 0, 0)),\n",
              " ((2, 2, 3), (2, 2, 3)),\n",
              " ((2, 2, 4), (2, 2, 4)),\n",
              " None,\n",
              " ((3, 0, 4), (3, 0, 4)),\n",
              " ((3, 3, 0), (3, 3, 0)),\n",
              " None,\n",
              " ((0, 4, 1), (0, 4, 1)),\n",
              " None,\n",
              " ((1, 0, 4), (1, 0, 4)),\n",
              " None,\n",
              " ((4, 4, 3), (4, 4, 3)),\n",
              " ((4, 0, 4), (4, 0, 4)),\n",
              " None,\n",
              " None,\n",
              " None,\n",
              " None,\n",
              " ((1, 4, 2), (1, 4, 2)),\n",
              " None]"
            ]
          },
          "execution_count": 31,
          "metadata": {},
          "output_type": "execute_result"
        }
      ],
      "source": [
        "def map_el(t, cls):\n",
        "    return (t, cls)\n",
        "\n",
        "def reduce(key, value):\n",
        "    if value == 'R':\n",
        "        return (key, key)\n",
        "\n",
        "def record_reader():\n",
        "    return [((random.randint(0, 4), random.randint(0, 4), random.randint(0, 4)), 'R' if random.random()<0.5 else 'S') for i in range(20)]\n",
        "\n",
        "\n",
        "output = map(lambda x: reduce(*x), list(map(lambda y: map_el(*y), record_reader())))\n",
        "output = list(output)\n",
        "output"
      ]
    },
    {
      "cell_type": "markdown",
      "metadata": {
        "id": "j8I58V2VwhSm"
      },
      "source": [
        "### Natural Join\n",
        "\n",
        "**The Map Function:** Для каждого кортежа $(a, b)$ отношения $R$, создайте пару $(b,(R, a))$. Для каждого кортежа $(b, c)$ отношения $S$, создайте пару $(b,(S, c))$.\n",
        "\n",
        "**The Reduce Function:** Каждый ключ $b$ будет асоциирован со списком пар, которые принимают форму либо $(R, a)$, либо $(S, c)$. Создайте все пары, одни, состоящие из  первого компонента $R$, а другие, из первого компонента $S$, то есть $(R, a)$ и $(S, c)$. На выходе вы получаете последовательность пар ключ-значение из списков ключей и значений. Ключ не нужен. Каждое значение, это тройка $(a, b, c)$ такая, что $(R, a)$ и $(S, c)$ это принадлежат входному списку значений."
      ]
    },
    {
      "cell_type": "code",
      "execution_count": 32,
      "metadata": {
        "colab": {
          "base_uri": "https://localhost:8080/"
        },
        "id": "yHiuuTctw86I",
        "outputId": "2ed77aeb-ade0-4ab4-a56b-245836d34d77"
      },
      "outputs": [
        {
          "name": "stdout",
          "output_type": "stream",
          "text": [
            "MAP: [(0, ('R', 1)), (0, ('R', 3)), (0, ('R', 4)), (3, ('S', 3)), (0, ('S', 3))]\n",
            "Shuffle: [(0, [('R', 1), ('R', 3), ('R', 4), ('S', 3)]), (3, [('S', 3)])]\n",
            "Reduce: [[('R', 0, 1), ('R', 0, 3), ('R', 0, 4), ('S', 0, 3)], [('S', 3, 3)]]\n"
          ]
        }
      ],
      "source": [
        "def map_el(t,cls):\n",
        "    if cls == 'R':\n",
        "        return (t[1], ('R',t[0]))\n",
        "    elif cls == 'S':\n",
        "        return (t[0], ('S',t[1]))\n",
        "    else:\n",
        "        pass\n",
        "\n",
        "def reduce(key, values):\n",
        "    output = list()\n",
        "    for val in values:\n",
        "        output.append((val[0],key,val[1]))\n",
        "    return output\n",
        "\n",
        "def record_reader():\n",
        "    return [((random.randint(0, 4), random.randint(0, 4)), 'R' if random.random()<0.5 else 'S') for i in range(5)]\n",
        "\n",
        "def groupbykey(iterable):\n",
        "    t = {}\n",
        "    for (k2, v2) in iterable:\n",
        "        t[k2] = t.get(k2, []) + [v2]\n",
        "    return list(t.items())\n",
        "\n",
        "\n",
        "# Генерация записей\n",
        "records = record_reader()\n",
        "\n",
        "# Применение MAP\n",
        "map_out = list(map(lambda x: map_el(*x), records))\n",
        "print(\"MAP:\", map_out)\n",
        "\n",
        "# Shuffle (группировка по ключу)\n",
        "shuffle_out = groupbykey(map_out)\n",
        "print(\"Shuffle:\", shuffle_out)\n",
        "\n",
        "# Применение REDUCE\n",
        "reduce_out = [reduce(k, v) for k, v in shuffle_out]\n",
        "print(\"Reduce:\", reduce_out)"
      ]
    },
    {
      "cell_type": "markdown",
      "metadata": {
        "id": "kYdlr0YUxE27"
      },
      "source": [
        "### Grouping and Aggregation (Группировка и аггрегация)\n",
        "\n",
        "**The Map Function:** Для каждого кортежа $(a, b, c$) создайте пару $(a, b)$.\n",
        "\n",
        "**The Reduce Function:** Ключ представляет ту или иную группу. Примение аггрегирующую операцию $\\theta$ к списку значений $[b1, b2, . . . , bn]$ ассоциированных с ключом $a$. Возвращайте в выходной поток $(a, x)$, где $x$ результат применения  $\\theta$ к списку. Например, если $\\theta$ это $SUM$, тогда $x = b1 + b2 + · · · + bn$, а если $\\theta$ is $MAX$, тогда $x$ это максимальное из значений $b1, b2, . . . , bn$."
      ]
    },
    {
      "cell_type": "code",
      "execution_count": 47,
      "metadata": {
        "colab": {
          "base_uri": "https://localhost:8080/"
        },
        "id": "MLPckfEGxico",
        "outputId": "e2a8a217-4e7f-4210-b01f-2f96485148fd"
      },
      "outputs": [
        {
          "name": "stdout",
          "output_type": "stream",
          "text": [
            "[(0, 9), (3, 5), (2, 12), (1, 12), (4, 12)]\n"
          ]
        }
      ],
      "source": [
        "def map_el(t):\n",
        "    a,b,c = t\n",
        "    return (a,b)\n",
        "\n",
        "def agg_oper(elems):\n",
        "    return sum(elems)\n",
        "\n",
        "def reduce(key, values):\n",
        "    return (key,agg_oper(values))\n",
        "\n",
        "def record_reader():\n",
        "    return [(random.randint(0, 4), random.randint(0, 4), (random.randint(0, 4))) for i in range(25)]\n",
        "\n",
        "def groupbykey(iterable):\n",
        "    t = {}\n",
        "    for (k2, v2) in iterable:\n",
        "        t[k2] = t.get(k2, []) + [v2]\n",
        "    return list(t.items())\n",
        "\n",
        "output = map(lambda x: reduce(*x), groupbykey(map(map_el, record_reader())))\n",
        "output = list(output)\n",
        "print(output)"
      ]
    },
    {
      "cell_type": "markdown",
      "metadata": {
        "id": "03IffTEOJgOb"
      },
      "source": [
        "#"
      ]
    },
    {
      "cell_type": "markdown",
      "metadata": {
        "id": "IIrRgvG4RIS4"
      },
      "source": [
        "### Matrix-Vector multiplication\n",
        "\n",
        "Случай, когда вектор не помещается в памяти Map задачи\n"
      ]
    },
    {
      "cell_type": "code",
      "execution_count": null,
      "metadata": {
        "id": "SMSTQHB6EG_O"
      },
      "outputs": [
        {
          "name": "stdout",
          "output_type": "stream",
          "text": [
            "[(0, np.float64(3.0682483504343034)), (1, np.float64(3.0682483504343034)), (2, np.float64(3.0682483504343034)), (3, np.float64(3.0682483504343034)), (4, np.float64(3.0682483504343034)), ((0,), np.float64(0.530804160051104)), ((1,), np.float64(0.8018515440001659)), ((2,), np.float64(0.7963255432914828)), ((3,), np.float64(0.939267103091551))]\n"
          ]
        }
      ],
      "source": [
        "from typing import Iterator\n",
        "from typing import Tuple\n",
        "import numpy as np\n",
        "\n",
        "mat = np.ones((5,4))\n",
        "vec = np.random.rand(4)\n",
        "\n",
        "def MAP(idx, value:int):\n",
        "    if idx[0] == 'mat':\n",
        "        i, j = idx[1:]\n",
        "        yield (i, value*vec[j])\n",
        "\n",
        "def REDUCE(idx, products:Iterator[NamedTuple]):\n",
        "    sum = 0\n",
        "    for p in products:\n",
        "        sum += p\n",
        "    yield (idx, sum)\n",
        "\n",
        "def RECORDREADER():\n",
        "    for i in range(mat.shape[0]):\n",
        "        for j in range(mat.shape[1]):\n",
        "            yield (('mat',i, j), mat[i,j])\n",
        "\n",
        "    for i in range(vec.shape[0]):\n",
        "       yield (('vac',i), vec[i])\n",
        "\n",
        "\n",
        "output = MapReduce(RECORDREADER, MAP, REDUCE)\n",
        "output = list(output)\n",
        "print(output)"
      ]
    },
    {
      "cell_type": "markdown",
      "metadata": {
        "id": "GIo2t7nNxvA9"
      },
      "source": [
        "## Matrix multiplication (Перемножение матриц)\n",
        "\n",
        "Если у нас есть матрица $M$ с элементами $m_{ij}$ в строке $i$ и столбце $j$, и матрица $N$ с элементами $n_{jk}$ в строке $j$ и столбце $k$, тогда их произведение $P = MN$ есть матрица $P$ с элементами $p_{ik}$ в строке $i$ и столбце $k$, где\n",
        "\n",
        "$$p_{ik} =\\sum_{j} m_{ij}n_{jk}$$\n",
        "\n",
        "Необходимым требованием является одинаковое количество столбцов в $M$ и строк в $N$, чтобы операция суммирования по  $j$ была осмысленной. Мы можем размышлять о матрице, как об отношении с тремя атрибутами: номер строки, номер столбца, само значение. Таким образом матрица $M$ предстваляется как отношение $ M(I, J, V )$, с кортежами $(i, j, m_{ij})$, и, аналогично, матрица $N$ представляется как отношение $N(J, K, W)$, с кортежами $(j, k, n_{jk})$. Так как большие матрицы как правило разреженные (большинство значений равно 0), и так как мы можем нулевыми значениями пренебречь (не хранить), такое реляционное представление достаточно эффективно для больших матриц. Однако, возможно, что координаты $i$, $j$, и $k$ неявно закодированы в смещение позиции элемента относительно начала файла, вместо явного хранения. Тогда, функция Map (или Reader) должна быть разработана таким образом, чтобы реконструировать компоненты $I$, $J$, и $K$ кортежей из смещения.\n",
        "\n",
        "Произведение $MN$ это фактически join, за которым следуют группировка по ключу и аггрегация. Таким образом join отношений $M(I, J, V )$ и $N(J, K, W)$, имеющих общим только атрибут $J$, создаст кортежи $(i, j, k, v, w)$ из каждого кортежа $(i, j, v) \\in M$ и кортежа $(j, k, w) \\in N$. Такой 5 компонентный кортеж представляет пару элементов матрицы $(m_{ij} , n_{jk})$. Что нам хотелось бы получить на самом деле, это произведение этих элементов, то есть, 4 компонентный кортеж$(i, j, k, v \\times w)$, так как он представляет произведение $m_{ij}n_{jk}$. Мы представляем отношение как результат одной MapReduce операции, в которой мы можем произвести группировку и аггрегацию, с $I$ и $K$  атрибутами, по которым идёт группировка, и суммой  $V \\times W$.\n",
        "\n",
        "\n",
        "\n"
      ]
    },
    {
      "cell_type": "code",
      "execution_count": 34,
      "metadata": {
        "id": "1MBkGaLAYVCt"
      },
      "outputs": [],
      "source": [
        "# MapReduce model\n",
        "def flatten(nested_iterable):\n",
        "  for iterable in nested_iterable:\n",
        "    for element in iterable:\n",
        "      yield element\n",
        "\n",
        "def groupbykey(iterable):\n",
        "  t = {}\n",
        "  for (k2, v2) in iterable:\n",
        "    t[k2] = t.get(k2, []) + [v2]\n",
        "  return t.items()\n",
        "\n",
        "def MapReduce(RECORDREADER, MAP, REDUCE):\n",
        "  return flatten(map(lambda x: REDUCE(*x), groupbykey(flatten(map(lambda x: MAP(*x), RECORDREADER())))))"
      ]
    },
    {
      "cell_type": "markdown",
      "metadata": {
        "id": "sMspsOT0ZB35"
      },
      "source": [
        "Реализуйте перемножение матриц с использованием модельного кода MapReduce для одной машины в случае, когда одна матрица хранится в памяти, а другая генерируется RECORDREADER-ом."
      ]
    },
    {
      "cell_type": "code",
      "execution_count": 35,
      "metadata": {
        "id": "psP1XekbsEjS"
      },
      "outputs": [],
      "source": [
        "import numpy as np\n",
        "I = 2\n",
        "J = 3\n",
        "K = 4*10\n",
        "small_mat = np.random.rand(I,J) # it is legal to access this from RECORDREADER, MAP, REDUCE\n",
        "big_mat = np.random.rand(J,K)\n",
        "\n",
        "def RECORDREADER():\n",
        "  for j in range(big_mat.shape[0]):\n",
        "    for k in range(big_mat.shape[1]):\n",
        "      yield ((j,k), big_mat[j,k])\n",
        "\n",
        "def MAP(k1, v1):\n",
        "  (j, k) = k1\n",
        "  w = v1\n",
        "  for i in range(I):\n",
        "        yield ((i, k), small_mat[i, j] * w)\n",
        "\n",
        "def REDUCE(key, values):\n",
        "  (i, k) = key\n",
        "  yield (key, sum(values))"
      ]
    },
    {
      "cell_type": "markdown",
      "metadata": {
        "id": "rnt306LHhHrm"
      },
      "source": [
        "Проверьте своё решение"
      ]
    },
    {
      "cell_type": "code",
      "execution_count": 36,
      "metadata": {
        "colab": {
          "base_uri": "https://localhost:8080/"
        },
        "id": "Ewy_ZNYqW5a2",
        "outputId": "d0ff4ba8-afd8-4c03-98e0-4469402b7cad"
      },
      "outputs": [
        {
          "data": {
            "text/plain": [
              "True"
            ]
          },
          "execution_count": 36,
          "metadata": {},
          "output_type": "execute_result"
        }
      ],
      "source": [
        "# CHECK THE SOLUTION\n",
        "reference_solution = np.matmul(small_mat, big_mat)\n",
        "solution = MapReduce(RECORDREADER, MAP, REDUCE)\n",
        "\n",
        "def asmatrix(reduce_output):\n",
        "  reduce_output = list(reduce_output)\n",
        "  I = max(i for ((i,k), vw) in reduce_output)+1\n",
        "  K = max(k for ((i,k), vw) in reduce_output)+1\n",
        "  mat = np.empty(shape=(I,K))\n",
        "  for ((i,k), vw) in reduce_output:\n",
        "    mat[i,k] = vw\n",
        "  return mat\n",
        "\n",
        "np.allclose(reference_solution, asmatrix(solution)) # should return true"
      ]
    },
    {
      "cell_type": "code",
      "execution_count": 37,
      "metadata": {
        "colab": {
          "base_uri": "https://localhost:8080/"
        },
        "id": "TK7v4CEcfxqf",
        "outputId": "e777013e-7958-4318-c3ab-25f93d025eff"
      },
      "outputs": [
        {
          "data": {
            "text/plain": [
              "1"
            ]
          },
          "execution_count": 37,
          "metadata": {},
          "output_type": "execute_result"
        }
      ],
      "source": [
        "reduce_output = list(MapReduce(RECORDREADER, MAP, REDUCE))\n",
        "max(i for ((i,k), vw) in reduce_output)"
      ]
    },
    {
      "cell_type": "markdown",
      "metadata": {
        "id": "i4yyg3kOZqJJ"
      },
      "source": [
        "Реализуйте перемножение матриц  с использованием модельного кода MapReduce для одной машины в случае, когда обе матрицы генерируются в RECORDREADER. Например, сначала одна, а потом другая."
      ]
    },
    {
      "cell_type": "code",
      "execution_count": 38,
      "metadata": {
        "colab": {
          "base_uri": "https://localhost:8080/"
        },
        "id": "3B7rIAJCaHZq",
        "outputId": "789a4923-5c5e-4dc9-bbe4-ae7c60f40ef7"
      },
      "outputs": [
        {
          "name": "stdout",
          "output_type": "stream",
          "text": [
            "True\n"
          ]
        }
      ],
      "source": [
        "import numpy as np\n",
        "I = 2\n",
        "J = 3\n",
        "K = 4*10\n",
        "small_mat = np.random.rand(I,J) # it is legal to access this from RECORDREADER, MAP, REDUCE\n",
        "big_mat = np.random.rand(J,K)\n",
        "\n",
        "def RECORDREADER():\n",
        "    for j in range(small_mat.shape[0]):\n",
        "        for i in range(small_mat.shape[1]):\n",
        "            yield (('small',j,i), small_mat[j,i])\n",
        "\n",
        "    for j in range(big_mat.shape[0]):\n",
        "        for k in range(big_mat.shape[1]):\n",
        "            yield (('big',j,k), big_mat[j,k])\n",
        "\n",
        "def MAP(k1, v1):\n",
        "    if k1[0] == 'small':\n",
        "        j, i = k1[1:]\n",
        "        w = v1\n",
        "        for k in range(big_mat.shape[1]):\n",
        "            yield ((j, k), big_mat[i, k] * w)\n",
        "    elif k1[0] == 'big':\n",
        "        j, k = k1[1:]\n",
        "\n",
        "def REDUCE(key, values):\n",
        "    (i, k) = key\n",
        "    yield (key, sum(values))\n",
        "\n",
        "# CHECK THE SOLUTION\n",
        "reference_solution = np.matmul(small_mat, big_mat)\n",
        "solution = MapReduce(RECORDREADER, MAP, REDUCE)\n",
        "\n",
        "# Verify if the solution matches the reference\n",
        "print(np.allclose(reference_solution, asmatrix(solution)))  # should return true"
      ]
    },
    {
      "cell_type": "markdown",
      "metadata": {
        "id": "mXyzQi1DaIwo"
      },
      "source": [
        "Реализуйте перемножение матриц с использованием модельного кода MapReduce Distributed, когда каждая матрица генерируется в своём RECORDREADER."
      ]
    },
    {
      "cell_type": "code",
      "execution_count": 39,
      "metadata": {
        "id": "TDM_s78Rb5eR"
      },
      "outputs": [],
      "source": [
        "import numpy as np\n",
        "\n",
        "# Matrix\n",
        "rows_A = 2\n",
        "cols_A = 3\n",
        "cols_B = 4 * 10\n",
        "\n",
        "# Generation\n",
        "matrix_A = np.random.rand(rows_A, cols_A)\n",
        "matrix_B = np.random.rand(cols_A, cols_B)"
      ]
    },
    {
      "cell_type": "code",
      "execution_count": 40,
      "metadata": {
        "id": "1rLfkj3PGoVp"
      },
      "outputs": [],
      "source": [
        "def flatten(nested_iterable):\n",
        "    \"\"\"A function for aligning nested iterable objects.\"\"\"\n",
        "    for iterable in nested_iterable:\n",
        "        for element in iterable:\n",
        "            yield element\n",
        "\n",
        "def group_by_key(iterable):\n",
        "    grouped = {}\n",
        "    for (key, value) in iterable:\n",
        "        grouped[key] = grouped.get(key, []) + [value]\n",
        "    return grouped.items()\n",
        "\n",
        "def group_by_key_distributed(map_partitions, partitioner):\n",
        "    \"\"\"Distributed grouping by key.\"\"\"\n",
        "    global num_reducers\n",
        "    partitions = [dict() for _ in range(num_reducers)]\n",
        "    for map_partition in map_partitions:\n",
        "        for (key, value) in map_partition:\n",
        "            partition_id = partitions[partitioner(key)]\n",
        "            partition_id[key] = partition_id.get(key, []) + [value]\n",
        "    return [(i, sorted(partition.items(), key=lambda x: x[0])) for i, partition in enumerate(partitions)]\n",
        "\n",
        "def partitioner(obj):\n",
        "    \"\"\"Function for determining the batch number.\"\"\"\n",
        "    global num_reducers\n",
        "    return hash(obj) % num_reducers\n",
        "\n",
        "def MapReduceDistributed(input_format, map_func, reduce_func, partitioner=partitioner, combiner=None):\n",
        "\n",
        "    map_partitions = map(lambda record_reader: flatten(map(lambda k1v1: map_func(*k1v1), record_reader)), input_format())\n",
        "    if combiner is not None:\n",
        "        map_partitions = map(lambda map_partition: flatten(map(lambda k2v2: combiner(*k2v2), group_by_key(map_partition))), map_partitions)\n",
        "    reduce_partitions = group_by_key_distributed(map_partitions, partitioner)\n",
        "    reduce_outputs = map(lambda reduce_partition: (reduce_partition[0], flatten(map(lambda reduce_input_group: reduce_func(*reduce_input_group), reduce_partition[1]))), reduce_partitions)\n",
        "\n",
        "    print(\"{} key-value pairs were sent over a network.\".format(sum(len(vs) for (k, vs) in flatten([partition for (partition_id, partition) in reduce_partitions]))))\n",
        "    return reduce_outputs\n",
        "\n",
        "def as_matrix(reduce_output):\n",
        "    \"\"\"Converting the reduction output to a matrix.\"\"\"\n",
        "    reduce_output = list(reduce_output)\n",
        "    rows = max(i for ((i, k), vw) in reduce_output) + 1\n",
        "    cols = max(k for ((i, k), vw) in reduce_output) + 1\n",
        "    result_matrix = np.empty(shape=(rows, cols))\n",
        "\n",
        "    for ((i, k), vw) in reduce_output:\n",
        "        result_matrix[i, k] = vw\n",
        "\n",
        "    return result_matrix\n"
      ]
    },
    {
      "cell_type": "code",
      "execution_count": 41,
      "metadata": {
        "colab": {
          "base_uri": "https://localhost:8080/"
        },
        "id": "BvQvKo-1Hgz1",
        "outputId": "056a5297-c181-41c1-d17f-dc938e3dbdab"
      },
      "outputs": [
        {
          "name": "stdout",
          "output_type": "stream",
          "text": [
            "126 key-value pairs were sent over a network.\n",
            "[(0, [((0, 0), np.float64(0.3445867629616581)), ((0, 1), np.float64(0.03041774159404952)), ((0, 2), np.float64(0.3895235314990261)), ((0, 3), np.float64(0.7549847073942374)), ((0, 4), np.float64(0.3766919701695717)), ((0, 5), np.float64(0.5695978428981087)), ((0, 6), np.float64(0.00017535135728199565)), ((0, 7), np.float64(0.5610597174214389)), ((0, 8), np.float64(0.026705502558677235)), ((0, 9), np.float64(0.1543611011475926)), ((0, 10), np.float64(0.7213458911914636)), ((0, 11), np.float64(0.8622850971021838)), ((0, 12), np.float64(0.27597418569383886)), ((0, 13), np.float64(0.5400577710784273)), ((0, 14), np.float64(0.6660019698015878)), ((0, 15), np.float64(0.55142048414282)), ((0, 16), np.float64(0.24338311285315856)), ((0, 17), np.float64(0.8587946436224982)), ((0, 18), np.float64(0.7123668951318465)), ((0, 19), np.float64(0.1517066274776061)), ((0, 20), np.float64(0.17931159713112846)), ((0, 21), np.float64(0.5997372275258017)), ((0, 22), np.float64(0.4541800283060495)), ((0, 23), np.float64(0.5154615696153679)), ((0, 24), np.float64(0.4998448126155404)), ((0, 25), np.float64(0.7187217509461417)), ((0, 26), np.float64(0.7289098707830471)), ((0, 27), np.float64(0.23099774472727969)), ((0, 28), np.float64(0.3278097996939026)), ((0, 29), np.float64(0.6634344083264088)), ((0, 30), np.float64(0.049506919831032774)), ((0, 31), np.float64(0.6562987113147434)), ((0, 32), np.float64(0.19914762491776397)), ((0, 33), np.float64(0.644832525185804)), ((0, 34), np.float64(0.8081901969153567)), ((0, 35), np.float64(0.17277289868873996)), ((0, 36), np.float64(0.52685916016086)), ((0, 37), np.float64(0.12446282361202048)), ((0, 38), np.float64(0.4072710408154607)), ((0, 39), np.float64(0.25912664955571374)), ((1, 0), np.float64(0.1454340081849417)), ((1, 1), np.float64(0.01283791066706956)), ((1, 2), np.float64(0.16439972325506932)), ((1, 3), np.float64(0.3186438479846563)), ((1, 4), np.float64(0.1589841194188271)), ((1, 5), np.float64(0.2404006951230048)), ((1, 6), np.float64(7.400763311685304e-05)), ((1, 7), np.float64(0.2367971504024079)), ((1, 8), np.float64(0.011271147632951312)), ((1, 9), np.float64(0.06514862455768078)), ((1, 10), np.float64(0.3044464718901186)), ((1, 11), np.float64(0.3639303401903052)), ((1, 12), np.float64(0.11647583800395808)), ((1, 13), np.float64(0.22793320795117364)), ((1, 14), np.float64(0.2810883827771669)), ((1, 15), np.float64(0.23272887941169892)), ((1, 16), np.float64(0.10272066553729275)), ((1, 17), np.float64(0.3624571824997115)), ((1, 18), np.float64(0.30065685624962396)), ((1, 19), np.float64(0.06402829497180378)), ((1, 20), np.float64(0.0756790657327867)), ((1, 21), np.float64(0.25312112429143674)), ((1, 22), np.float64(0.19168821630402777)), ((1, 23), np.float64(0.2175522979761289)), ((1, 24), np.float64(0.2109611928918402)), ((1, 25), np.float64(0.30333894462866356)), ((1, 26), np.float64(0.30763887504681064)), ((1, 27), np.float64(0.09749337905097752)), ((1, 28), np.float64(0.13835323412319198)), ((1, 29), np.float64(0.28000473477691545)), ((1, 30), np.float64(0.020894562873034133)), ((1, 31), np.float64(0.2769930897308889)), ((1, 32), np.float64(0.08405092831590999)), ((1, 33), np.float64(0.2721537471136805)), ((1, 34), np.float64(0.3410994046984215)), ((1, 35), np.float64(0.07291938595107957)), ((1, 36), np.float64(0.2223626895954557)), ((1, 37), np.float64(0.052529955452541986)), ((1, 38), np.float64(0.17189011955759906)), ((1, 39), np.float64(0.10936527842369693)), ((0, 0), np.float64(0.2997985998565657)), ((0, 1), np.float64(0.3675609644305147)), ((0, 2), np.float64(0.6654078859703908)), ((0, 3), np.float64(0.6741608759529468)), ((0, 4), np.float64(0.27959150525882825)), ((0, 5), np.float64(0.40715044982052123)), ((0, 6), np.float64(0.5698711185820654)), ((0, 7), np.float64(0.6110922607296546)), ((0, 8), np.float64(0.3704184855829056)), ((0, 9), np.float64(0.4212596187300145)), ((0, 10), np.float64(0.7259000889690075)), ((0, 11), np.float64(0.08901336345545997)), ((0, 12), np.float64(0.3714370169436531)), ((0, 13), np.float64(0.10183779214135177)), ((0, 14), np.float64(0.6846217814304336)), ((0, 15), np.float64(0.33701356631019685)), ((0, 16), np.float64(0.6379236113413901)), ((0, 17), np.float64(0.36305501952334296)), ((0, 18), np.float64(0.7224495672084734)), ((0, 19), np.float64(0.6270350859893138)), ((0, 20), np.float64(0.5907811594180673)), ((0, 21), np.float64(0.4691950197398305)), ((0, 22), np.float64(0.6322875212636496)), ((0, 23), np.float64(0.4848328909382975)), ((0, 24), np.float64(0.3344043010421309)), ((0, 25), np.float64(0.6395615032987293)), ((0, 26), np.float64(0.646167688145228)), ((0, 27), np.float64(0.039697246165839)), ((0, 28), np.float64(0.20484615917848062)), ((0, 29), np.float64(0.47496407914041683)), ((0, 30), np.float64(0.360040280522206)), ((0, 31), np.float64(0.6012875837328807)), ((0, 32), np.float64(0.5782084351154221)), ((0, 33), np.float64(0.5474016442226679)), ((0, 34), np.float64(0.8072851137379935)), ((0, 35), np.float64(0.001591481383031417)), ((0, 36), np.float64(0.7548009666493655)), ((0, 37), np.float64(0.27560467014440204)), ((0, 38), np.float64(0.6801843617924204)), ((0, 39), np.float64(0.8130076020702288)), ((1, 0), np.float64(0.23760575480909416)), ((1, 1), np.float64(0.2913109014973887)), ((1, 2), np.float64(0.5273698512186558)), ((1, 3), np.float64(0.534307044363109)), ((1, 4), np.float64(0.2215905967440088)), ((1, 5), np.float64(0.32268759759635846)), ((1, 6), np.float64(0.4516520668854919)), ((1, 7), np.float64(0.48432193458586437)), ((1, 8), np.float64(0.2935756334561825)), ((1, 9), np.float64(0.3338698370400152)), ((1, 10), np.float64(0.575313022268914)), ((1, 11), np.float64(0.07054765239747536)), ((1, 12), np.float64(0.2943828717584392)), ((1, 13), np.float64(0.08071166937208628)), ((1, 14), np.float64(0.5425978480665087)), ((1, 15), np.float64(0.26710052295891445)), ((1, 16), np.float64(0.505587155029519)), ((1, 17), np.float64(0.2877397092326184)), ((1, 18), np.float64(0.572578306937391)), ((1, 19), np.float64(0.496957440660353)), ((1, 20), np.float64(0.46822434586979755)), ((1, 21), np.float64(0.3718610989887475)), ((1, 22), np.float64(0.501120264798096)), ((1, 23), np.float64(0.3842549133411055)), ((1, 24), np.float64(0.2650325465113507)), ((1, 25), np.float64(0.5068852683462775)), ((1, 26), np.float64(0.5121210083984714)), ((1, 27), np.float64(0.03146210203646495)), ((1, 28), np.float64(0.16235107934004178)), ((1, 29), np.float64(0.3764333742230902)), ((1, 30), np.float64(0.28535037407141256)), ((1, 31), np.float64(0.47655122558458013)), ((1, 32), np.float64(0.4582598175185447)), ((1, 33), np.float64(0.4338438569142562)), ((1, 34), np.float64(0.6398148253115017)), ((1, 35), np.float64(0.0012613305581170792)), ((1, 36), np.float64(0.5982184489759507)), ((1, 37), np.float64(0.21843082559392382)), ((1, 38), np.float64(0.5390809655894081)), ((1, 39), np.float64(0.6443501905874487))]), (1, [((0, 0), np.float64(0.3942249532196926)), ((0, 1), np.float64(0.7828958809514845)), ((0, 2), np.float64(0.02036334629752071)), ((0, 3), np.float64(0.8303842037738673)), ((0, 4), np.float64(0.6745428560976765)), ((0, 5), np.float64(0.2301133766351873)), ((0, 6), np.float64(0.41943634412934055)), ((0, 7), np.float64(0.1200309620535471)), ((0, 8), np.float64(0.23242777564256215)), ((0, 9), np.float64(0.25169488789824734)), ((0, 10), np.float64(0.517874442995011)), ((0, 11), np.float64(0.05386382484916331)), ((0, 12), np.float64(0.133203211996262)), ((0, 13), np.float64(0.14645679112508644)), ((0, 14), np.float64(0.2019964496260126)), ((0, 15), np.float64(0.46630411935659216)), ((0, 16), np.float64(0.2873248462535049)), ((0, 17), np.float64(0.7784258732730452)), ((0, 18), np.float64(0.27329851313092623)), ((0, 19), np.float64(0.743836274149708)), ((0, 20), np.float64(0.25597962368295596)), ((0, 21), np.float64(0.6900223906613058)), ((0, 22), np.float64(0.3474398685751437)), ((0, 23), np.float64(0.6532383921229397)), ((0, 24), np.float64(0.15592650266309407)), ((0, 25), np.float64(0.13316003670853077)), ((0, 26), np.float64(0.6326683066788045)), ((0, 27), np.float64(0.26442423932449455)), ((0, 28), np.float64(0.04438767295931754)), ((0, 29), np.float64(0.4712827101126595)), ((0, 30), np.float64(0.44898247564523197)), ((0, 31), np.float64(0.7461485719532508)), ((0, 32), np.float64(0.7148246195166043)), ((0, 33), np.float64(0.37051044271968175)), ((0, 34), np.float64(0.7077027739903196)), ((0, 35), np.float64(0.6248943151904517)), ((0, 36), np.float64(0.23599710581684052)), ((0, 37), np.float64(0.39225421266621463)), ((0, 38), np.float64(0.6536751478384365)), ((0, 39), np.float64(0.16051173426796533)), ((1, 0), np.float64(0.43323856241599545)), ((1, 1), np.float64(0.8603734573742414)), ((1, 2), np.float64(0.02237856027089323)), ((1, 3), np.float64(0.9125613580717665)), ((1, 4), np.float64(0.7412975126941787)), ((1, 5), np.float64(0.25288604303685935)), ((1, 6), np.float64(0.4609449434174961)), ((1, 7), np.float64(0.13190956336167814)), ((1, 8), np.float64(0.2554294814737797)), ((1, 9), np.float64(0.2766033213014908)), ((1, 10), np.float64(0.5691247531713459)), ((1, 11), np.float64(0.05919434032090283)), ((1, 12), np.float64(0.1463853761745362)), ((1, 13), np.float64(0.1609505667383072)), ((1, 14), np.float64(0.2219865859184716)), ((1, 15), np.float64(0.5124508853860529)), ((1, 16), np.float64(0.3157593204606087)), ((1, 17), np.float64(0.8554610851746147)), ((1, 18), np.float64(0.30034490199631775)), ((1, 19), np.float64(0.8174484021205588)), ((1, 20), np.float64(0.2813120865801439)), ((1, 21), np.float64(0.7583089454978199)), ((1, 22), np.float64(0.38182349432257745)), ((1, 23), np.float64(0.7178846990960634)), ((1, 24), np.float64(0.17135742754129216)), ((1, 25), np.float64(0.14633792813900265)), ((1, 26), np.float64(0.6952789401916416)), ((1, 27), np.float64(0.2905924051160864)), ((1, 28), np.float64(0.04878040181076359)), ((1, 29), np.float64(0.5179221714738571)), ((1, 30), np.float64(0.49341504313684414)), ((1, 31), np.float64(0.8199895314126111)), ((1, 32), np.float64(0.7855656726182718)), ((1, 33), np.float64(0.4071771973159069)), ((1, 34), np.float64(0.7777390292453523)), ((1, 35), np.float64(0.6867356126596291)), ((1, 36), np.float64(0.2593520425924074)), ((1, 37), np.float64(0.43107279183929653)), ((1, 38), np.float64(0.7183646773845087)), ((1, 39), np.float64(0.1763964265509053))])]\n",
            "Join Part: (0, [((0, 0), np.float64(0.3445867629616581)), ((0, 1), np.float64(0.03041774159404952)), ((0, 2), np.float64(0.3895235314990261)), ((0, 3), np.float64(0.7549847073942374)), ((0, 4), np.float64(0.3766919701695717)), ((0, 5), np.float64(0.5695978428981087)), ((0, 6), np.float64(0.00017535135728199565)), ((0, 7), np.float64(0.5610597174214389)), ((0, 8), np.float64(0.026705502558677235)), ((0, 9), np.float64(0.1543611011475926)), ((0, 10), np.float64(0.7213458911914636)), ((0, 11), np.float64(0.8622850971021838)), ((0, 12), np.float64(0.27597418569383886)), ((0, 13), np.float64(0.5400577710784273)), ((0, 14), np.float64(0.6660019698015878)), ((0, 15), np.float64(0.55142048414282)), ((0, 16), np.float64(0.24338311285315856)), ((0, 17), np.float64(0.8587946436224982)), ((0, 18), np.float64(0.7123668951318465)), ((0, 19), np.float64(0.1517066274776061)), ((0, 20), np.float64(0.17931159713112846)), ((0, 21), np.float64(0.5997372275258017)), ((0, 22), np.float64(0.4541800283060495)), ((0, 23), np.float64(0.5154615696153679)), ((0, 24), np.float64(0.4998448126155404)), ((0, 25), np.float64(0.7187217509461417)), ((0, 26), np.float64(0.7289098707830471)), ((0, 27), np.float64(0.23099774472727969)), ((0, 28), np.float64(0.3278097996939026)), ((0, 29), np.float64(0.6634344083264088)), ((0, 30), np.float64(0.049506919831032774)), ((0, 31), np.float64(0.6562987113147434)), ((0, 32), np.float64(0.19914762491776397)), ((0, 33), np.float64(0.644832525185804)), ((0, 34), np.float64(0.8081901969153567)), ((0, 35), np.float64(0.17277289868873996)), ((0, 36), np.float64(0.52685916016086)), ((0, 37), np.float64(0.12446282361202048)), ((0, 38), np.float64(0.4072710408154607)), ((0, 39), np.float64(0.25912664955571374)), ((1, 0), np.float64(0.1454340081849417)), ((1, 1), np.float64(0.01283791066706956)), ((1, 2), np.float64(0.16439972325506932)), ((1, 3), np.float64(0.3186438479846563)), ((1, 4), np.float64(0.1589841194188271)), ((1, 5), np.float64(0.2404006951230048)), ((1, 6), np.float64(7.400763311685304e-05)), ((1, 7), np.float64(0.2367971504024079)), ((1, 8), np.float64(0.011271147632951312)), ((1, 9), np.float64(0.06514862455768078)), ((1, 10), np.float64(0.3044464718901186)), ((1, 11), np.float64(0.3639303401903052)), ((1, 12), np.float64(0.11647583800395808)), ((1, 13), np.float64(0.22793320795117364)), ((1, 14), np.float64(0.2810883827771669)), ((1, 15), np.float64(0.23272887941169892)), ((1, 16), np.float64(0.10272066553729275)), ((1, 17), np.float64(0.3624571824997115)), ((1, 18), np.float64(0.30065685624962396)), ((1, 19), np.float64(0.06402829497180378)), ((1, 20), np.float64(0.0756790657327867)), ((1, 21), np.float64(0.25312112429143674)), ((1, 22), np.float64(0.19168821630402777)), ((1, 23), np.float64(0.2175522979761289)), ((1, 24), np.float64(0.2109611928918402)), ((1, 25), np.float64(0.30333894462866356)), ((1, 26), np.float64(0.30763887504681064)), ((1, 27), np.float64(0.09749337905097752)), ((1, 28), np.float64(0.13835323412319198)), ((1, 29), np.float64(0.28000473477691545)), ((1, 30), np.float64(0.020894562873034133)), ((1, 31), np.float64(0.2769930897308889)), ((1, 32), np.float64(0.08405092831590999)), ((1, 33), np.float64(0.2721537471136805)), ((1, 34), np.float64(0.3410994046984215)), ((1, 35), np.float64(0.07291938595107957)), ((1, 36), np.float64(0.2223626895954557)), ((1, 37), np.float64(0.052529955452541986)), ((1, 38), np.float64(0.17189011955759906)), ((1, 39), np.float64(0.10936527842369693)), ((0, 0), np.float64(0.2997985998565657)), ((0, 1), np.float64(0.3675609644305147)), ((0, 2), np.float64(0.6654078859703908)), ((0, 3), np.float64(0.6741608759529468)), ((0, 4), np.float64(0.27959150525882825)), ((0, 5), np.float64(0.40715044982052123)), ((0, 6), np.float64(0.5698711185820654)), ((0, 7), np.float64(0.6110922607296546)), ((0, 8), np.float64(0.3704184855829056)), ((0, 9), np.float64(0.4212596187300145)), ((0, 10), np.float64(0.7259000889690075)), ((0, 11), np.float64(0.08901336345545997)), ((0, 12), np.float64(0.3714370169436531)), ((0, 13), np.float64(0.10183779214135177)), ((0, 14), np.float64(0.6846217814304336)), ((0, 15), np.float64(0.33701356631019685)), ((0, 16), np.float64(0.6379236113413901)), ((0, 17), np.float64(0.36305501952334296)), ((0, 18), np.float64(0.7224495672084734)), ((0, 19), np.float64(0.6270350859893138)), ((0, 20), np.float64(0.5907811594180673)), ((0, 21), np.float64(0.4691950197398305)), ((0, 22), np.float64(0.6322875212636496)), ((0, 23), np.float64(0.4848328909382975)), ((0, 24), np.float64(0.3344043010421309)), ((0, 25), np.float64(0.6395615032987293)), ((0, 26), np.float64(0.646167688145228)), ((0, 27), np.float64(0.039697246165839)), ((0, 28), np.float64(0.20484615917848062)), ((0, 29), np.float64(0.47496407914041683)), ((0, 30), np.float64(0.360040280522206)), ((0, 31), np.float64(0.6012875837328807)), ((0, 32), np.float64(0.5782084351154221)), ((0, 33), np.float64(0.5474016442226679)), ((0, 34), np.float64(0.8072851137379935)), ((0, 35), np.float64(0.001591481383031417)), ((0, 36), np.float64(0.7548009666493655)), ((0, 37), np.float64(0.27560467014440204)), ((0, 38), np.float64(0.6801843617924204)), ((0, 39), np.float64(0.8130076020702288)), ((1, 0), np.float64(0.23760575480909416)), ((1, 1), np.float64(0.2913109014973887)), ((1, 2), np.float64(0.5273698512186558)), ((1, 3), np.float64(0.534307044363109)), ((1, 4), np.float64(0.2215905967440088)), ((1, 5), np.float64(0.32268759759635846)), ((1, 6), np.float64(0.4516520668854919)), ((1, 7), np.float64(0.48432193458586437)), ((1, 8), np.float64(0.2935756334561825)), ((1, 9), np.float64(0.3338698370400152)), ((1, 10), np.float64(0.575313022268914)), ((1, 11), np.float64(0.07054765239747536)), ((1, 12), np.float64(0.2943828717584392)), ((1, 13), np.float64(0.08071166937208628)), ((1, 14), np.float64(0.5425978480665087)), ((1, 15), np.float64(0.26710052295891445)), ((1, 16), np.float64(0.505587155029519)), ((1, 17), np.float64(0.2877397092326184)), ((1, 18), np.float64(0.572578306937391)), ((1, 19), np.float64(0.496957440660353)), ((1, 20), np.float64(0.46822434586979755)), ((1, 21), np.float64(0.3718610989887475)), ((1, 22), np.float64(0.501120264798096)), ((1, 23), np.float64(0.3842549133411055)), ((1, 24), np.float64(0.2650325465113507)), ((1, 25), np.float64(0.5068852683462775)), ((1, 26), np.float64(0.5121210083984714)), ((1, 27), np.float64(0.03146210203646495)), ((1, 28), np.float64(0.16235107934004178)), ((1, 29), np.float64(0.3764333742230902)), ((1, 30), np.float64(0.28535037407141256)), ((1, 31), np.float64(0.47655122558458013)), ((1, 32), np.float64(0.4582598175185447)), ((1, 33), np.float64(0.4338438569142562)), ((1, 34), np.float64(0.6398148253115017)), ((1, 35), np.float64(0.0012613305581170792)), ((1, 36), np.float64(0.5982184489759507)), ((1, 37), np.float64(0.21843082559392382)), ((1, 38), np.float64(0.5390809655894081)), ((1, 39), np.float64(0.6443501905874487))])\n",
            "Join Part: (1, [((0, 0), np.float64(0.3942249532196926)), ((0, 1), np.float64(0.7828958809514845)), ((0, 2), np.float64(0.02036334629752071)), ((0, 3), np.float64(0.8303842037738673)), ((0, 4), np.float64(0.6745428560976765)), ((0, 5), np.float64(0.2301133766351873)), ((0, 6), np.float64(0.41943634412934055)), ((0, 7), np.float64(0.1200309620535471)), ((0, 8), np.float64(0.23242777564256215)), ((0, 9), np.float64(0.25169488789824734)), ((0, 10), np.float64(0.517874442995011)), ((0, 11), np.float64(0.05386382484916331)), ((0, 12), np.float64(0.133203211996262)), ((0, 13), np.float64(0.14645679112508644)), ((0, 14), np.float64(0.2019964496260126)), ((0, 15), np.float64(0.46630411935659216)), ((0, 16), np.float64(0.2873248462535049)), ((0, 17), np.float64(0.7784258732730452)), ((0, 18), np.float64(0.27329851313092623)), ((0, 19), np.float64(0.743836274149708)), ((0, 20), np.float64(0.25597962368295596)), ((0, 21), np.float64(0.6900223906613058)), ((0, 22), np.float64(0.3474398685751437)), ((0, 23), np.float64(0.6532383921229397)), ((0, 24), np.float64(0.15592650266309407)), ((0, 25), np.float64(0.13316003670853077)), ((0, 26), np.float64(0.6326683066788045)), ((0, 27), np.float64(0.26442423932449455)), ((0, 28), np.float64(0.04438767295931754)), ((0, 29), np.float64(0.4712827101126595)), ((0, 30), np.float64(0.44898247564523197)), ((0, 31), np.float64(0.7461485719532508)), ((0, 32), np.float64(0.7148246195166043)), ((0, 33), np.float64(0.37051044271968175)), ((0, 34), np.float64(0.7077027739903196)), ((0, 35), np.float64(0.6248943151904517)), ((0, 36), np.float64(0.23599710581684052)), ((0, 37), np.float64(0.39225421266621463)), ((0, 38), np.float64(0.6536751478384365)), ((0, 39), np.float64(0.16051173426796533)), ((1, 0), np.float64(0.43323856241599545)), ((1, 1), np.float64(0.8603734573742414)), ((1, 2), np.float64(0.02237856027089323)), ((1, 3), np.float64(0.9125613580717665)), ((1, 4), np.float64(0.7412975126941787)), ((1, 5), np.float64(0.25288604303685935)), ((1, 6), np.float64(0.4609449434174961)), ((1, 7), np.float64(0.13190956336167814)), ((1, 8), np.float64(0.2554294814737797)), ((1, 9), np.float64(0.2766033213014908)), ((1, 10), np.float64(0.5691247531713459)), ((1, 11), np.float64(0.05919434032090283)), ((1, 12), np.float64(0.1463853761745362)), ((1, 13), np.float64(0.1609505667383072)), ((1, 14), np.float64(0.2219865859184716)), ((1, 15), np.float64(0.5124508853860529)), ((1, 16), np.float64(0.3157593204606087)), ((1, 17), np.float64(0.8554610851746147)), ((1, 18), np.float64(0.30034490199631775)), ((1, 19), np.float64(0.8174484021205588)), ((1, 20), np.float64(0.2813120865801439)), ((1, 21), np.float64(0.7583089454978199)), ((1, 22), np.float64(0.38182349432257745)), ((1, 23), np.float64(0.7178846990960634)), ((1, 24), np.float64(0.17135742754129216)), ((1, 25), np.float64(0.14633792813900265)), ((1, 26), np.float64(0.6952789401916416)), ((1, 27), np.float64(0.2905924051160864)), ((1, 28), np.float64(0.04878040181076359)), ((1, 29), np.float64(0.5179221714738571)), ((1, 30), np.float64(0.49341504313684414)), ((1, 31), np.float64(0.8199895314126111)), ((1, 32), np.float64(0.7855656726182718)), ((1, 33), np.float64(0.4071771973159069)), ((1, 34), np.float64(0.7777390292453523)), ((1, 35), np.float64(0.6867356126596291)), ((1, 36), np.float64(0.2593520425924074)), ((1, 37), np.float64(0.43107279183929653)), ((1, 38), np.float64(0.7183646773845087)), ((1, 39), np.float64(0.1763964265509053))])\n",
            "240 key-value pairs were sent over a network.\n",
            "[(0, [((0, 1), np.float64(1.1808745869760489)), ((0, 2), np.float64(1.0752947637669377)), ((0, 4), np.float64(1.3308263315260764)), ((0, 5), np.float64(1.2068616693538172)), ((0, 8), np.float64(0.6295517637841449)), ((0, 9), np.float64(0.8273156077758544)), ((0, 11), np.float64(1.0051622854068072)), ((0, 12), np.float64(0.7806144146337539)), ((0, 15), np.float64(1.354738169809609)), ((0, 16), np.float64(1.1686315704480537)), ((0, 18), np.float64(1.7081149754712461)), ((0, 19), np.float64(1.5225779876166279)), ((0, 22), np.float64(1.4339074181448428)), ((0, 23), np.float64(1.653532852676605)), ((0, 25), np.float64(1.491443290953402)), ((0, 26), np.float64(2.0077458656070797)), ((0, 29), np.float64(1.6096811975794851)), ((0, 32), np.float64(1.4921806795497903)), ((0, 33), np.float64(1.5627446121281536)), ((0, 36), np.float64(1.5176572326270659)), ((0, 39), np.float64(1.2326459858939078)), ((1, 0), np.float64(0.8162783254100313)), ((1, 1), np.float64(1.1645222695386996)), ((1, 3), np.float64(1.765512250419532)), ((1, 4), np.float64(1.1218722288570144)), ((1, 7), np.float64(0.8530286483499504)), ((1, 10), np.float64(1.4488842473303785)), ((1, 11), np.float64(0.49367233290868334)), ((1, 14), np.float64(1.0456728167621472)), ((1, 17), np.float64(1.5056579769069445)), ((1, 18), np.float64(1.1735800651833328)), ((1, 21), np.float64(1.3832911687780043)), ((1, 24), np.float64(0.647351166944483)), ((1, 25), np.float64(0.9565621411139438)), ((1, 27), np.float64(0.4195478862035289)), ((1, 28), np.float64(0.3494847152739974)), ((1, 31), np.float64(1.5735338467280802)), ((1, 32), np.float64(1.3278764184527265)), ((1, 34), np.float64(1.7586532592552755)), ((1, 35), np.float64(0.7609163291688258)), ((1, 38), np.float64(1.4293357625315157)), ((1, 39), np.float64(0.9301118955620509))]), (1, [((0, 0), np.float64(1.0386103160379163)), ((0, 3), np.float64(2.2595297871210516)), ((0, 6), np.float64(0.989482814068688)), ((0, 7), np.float64(1.2921829402046405)), ((0, 10), np.float64(1.965120423155482)), ((0, 13), np.float64(0.7883523543448656)), ((0, 14), np.float64(1.5526202008580339)), ((0, 17), np.float64(2.0002755364188864)), ((0, 20), np.float64(1.0260723802321516)), ((0, 21), np.float64(1.758954637926938)), ((0, 24), np.float64(0.9901756163207653)), ((0, 27), np.float64(0.5351192302176132)), ((0, 28), np.float64(0.5770436318317008)), ((0, 30), np.float64(0.8585296759984707)), ((0, 31), np.float64(2.0037348670008748)), ((0, 34), np.float64(2.32317808464367)), ((0, 35), np.float64(0.799258695262223)), ((0, 37), np.float64(0.7923217064226371)), ((0, 38), np.float64(1.7411305504463175)), ((1, 2), np.float64(0.7141481347446184)), ((1, 5), np.float64(0.8159743357562226)), ((1, 6), np.float64(0.9126710179361048)), ((1, 8), np.float64(0.5602762625629134)), ((1, 9), np.float64(0.6756217828991868)), ((1, 12), np.float64(0.5572440859369334)), ((1, 13), np.float64(0.4695954440615671)), ((1, 15), np.float64(1.0122802877566661)), ((1, 16), np.float64(0.9240671410274204)), ((1, 19), np.float64(1.3784341377527156)), ((1, 20), np.float64(0.8252154981827282)), ((1, 22), np.float64(1.0746319754247011)), ((1, 23), np.float64(1.3196919104132978)), ((1, 26), np.float64(1.5150388236369237)), ((1, 29), np.float64(1.1743602804738629)), ((1, 30), np.float64(0.7996599800812909)), ((1, 33), np.float64(1.1131748013438436)), ((1, 36), np.float64(1.0799331811638138)), ((1, 37), np.float64(0.7020335728857623))])]\n",
            "[((0, 1), np.float64(1.1808745869760489)), ((0, 2), np.float64(1.0752947637669377)), ((0, 4), np.float64(1.3308263315260764)), ((0, 5), np.float64(1.2068616693538172)), ((0, 8), np.float64(0.6295517637841449)), ((0, 9), np.float64(0.8273156077758544)), ((0, 11), np.float64(1.0051622854068072)), ((0, 12), np.float64(0.7806144146337539)), ((0, 15), np.float64(1.354738169809609)), ((0, 16), np.float64(1.1686315704480537)), ((0, 18), np.float64(1.7081149754712461)), ((0, 19), np.float64(1.5225779876166279)), ((0, 22), np.float64(1.4339074181448428)), ((0, 23), np.float64(1.653532852676605)), ((0, 25), np.float64(1.491443290953402)), ((0, 26), np.float64(2.0077458656070797)), ((0, 29), np.float64(1.6096811975794851)), ((0, 32), np.float64(1.4921806795497903)), ((0, 33), np.float64(1.5627446121281536)), ((0, 36), np.float64(1.5176572326270659)), ((0, 39), np.float64(1.2326459858939078)), ((1, 0), np.float64(0.8162783254100313)), ((1, 1), np.float64(1.1645222695386996)), ((1, 3), np.float64(1.765512250419532)), ((1, 4), np.float64(1.1218722288570144)), ((1, 7), np.float64(0.8530286483499504)), ((1, 10), np.float64(1.4488842473303785)), ((1, 11), np.float64(0.49367233290868334)), ((1, 14), np.float64(1.0456728167621472)), ((1, 17), np.float64(1.5056579769069445)), ((1, 18), np.float64(1.1735800651833328)), ((1, 21), np.float64(1.3832911687780043)), ((1, 24), np.float64(0.647351166944483)), ((1, 25), np.float64(0.9565621411139438)), ((1, 27), np.float64(0.4195478862035289)), ((1, 28), np.float64(0.3494847152739974)), ((1, 31), np.float64(1.5735338467280802)), ((1, 32), np.float64(1.3278764184527265)), ((1, 34), np.float64(1.7586532592552755)), ((1, 35), np.float64(0.7609163291688258)), ((1, 38), np.float64(1.4293357625315157)), ((1, 39), np.float64(0.9301118955620509)), ((0, 0), np.float64(1.0386103160379163)), ((0, 3), np.float64(2.2595297871210516)), ((0, 6), np.float64(0.989482814068688)), ((0, 7), np.float64(1.2921829402046405)), ((0, 10), np.float64(1.965120423155482)), ((0, 13), np.float64(0.7883523543448656)), ((0, 14), np.float64(1.5526202008580339)), ((0, 17), np.float64(2.0002755364188864)), ((0, 20), np.float64(1.0260723802321516)), ((0, 21), np.float64(1.758954637926938)), ((0, 24), np.float64(0.9901756163207653)), ((0, 27), np.float64(0.5351192302176132)), ((0, 28), np.float64(0.5770436318317008)), ((0, 30), np.float64(0.8585296759984707)), ((0, 31), np.float64(2.0037348670008748)), ((0, 34), np.float64(2.32317808464367)), ((0, 35), np.float64(0.799258695262223)), ((0, 37), np.float64(0.7923217064226371)), ((0, 38), np.float64(1.7411305504463175)), ((1, 2), np.float64(0.7141481347446184)), ((1, 5), np.float64(0.8159743357562226)), ((1, 6), np.float64(0.9126710179361048)), ((1, 8), np.float64(0.5602762625629134)), ((1, 9), np.float64(0.6756217828991868)), ((1, 12), np.float64(0.5572440859369334)), ((1, 13), np.float64(0.4695954440615671)), ((1, 15), np.float64(1.0122802877566661)), ((1, 16), np.float64(0.9240671410274204)), ((1, 19), np.float64(1.3784341377527156)), ((1, 20), np.float64(0.8252154981827282)), ((1, 22), np.float64(1.0746319754247011)), ((1, 23), np.float64(1.3196919104132978)), ((1, 26), np.float64(1.5150388236369237)), ((1, 29), np.float64(1.1743602804738629)), ((1, 30), np.float64(0.7996599800812909)), ((1, 33), np.float64(1.1131748013438436)), ((1, 36), np.float64(1.0799331811638138)), ((1, 37), np.float64(0.7020335728857623))]\n"
          ]
        }
      ],
      "source": [
        "def input_format():\n",
        "    def RECORDREADER_A(prefix):\n",
        "        matrix_A_list = list()\n",
        "        for j in range(matrix_A.shape[0]):\n",
        "            for i in range(matrix_A.shape[1]):\n",
        "                matrix_A_list.append(((prefix,j,i), matrix_A[j,i]))\n",
        "        return matrix_A_list\n",
        "\n",
        "    def RECORDREADER_B(prefix):\n",
        "        matrix_B_list = list()\n",
        "        for j in range(matrix_B.shape[0]):\n",
        "            for i in range(matrix_B.shape[1]):\n",
        "                matrix_B_list.append(((prefix,j,i), matrix_B[j,i]))\n",
        "        return matrix_B_list\n",
        "\n",
        "    yield RECORDREADER_A(\"A\")\n",
        "\n",
        "    yield RECORDREADER_B(\"B\")\n",
        "\n",
        "\n",
        "def map_join(key1, value1):\n",
        "\n",
        "    matrix_id, i, j = key1\n",
        "    value = value1\n",
        "\n",
        "    if matrix_id == 'A':\n",
        "        yield (j, (matrix_id, i, value))\n",
        "    elif matrix_id == 'B':\n",
        "        yield (i, (matrix_id, j, value))\n",
        "    else: pass\n",
        "\n",
        "def reduce_join(key, values):\n",
        "    matrix_A_values = [v for v in values if v[0] == 'A']\n",
        "    matrix_B_values = [v for v in values if v[0] == 'B']\n",
        "\n",
        "    for a in matrix_A_values:\n",
        "        for b in matrix_B_values:\n",
        "            yield ((a[1], b[1]), a[2] * b[2])\n",
        "\n",
        "def get_joined():\n",
        "    for j in joined:\n",
        "        print(\"Join Part:\", j)\n",
        "        yield j[1]\n",
        "\n",
        "def map_multiply(key1, value1):\n",
        "    yield (key1, value1)\n",
        "\n",
        "def reduce_multiply(key, values):\n",
        "    yield (key, sum(values))\n",
        "\n",
        "num_maps = 3\n",
        "num_reducers = 2\n",
        "\n",
        "partitioned_output = MapReduceDistributed(input_format, map_join, reduce_join)\n",
        "joined = [(partition_id, list(partition)) for (partition_id, partition) in partitioned_output]\n",
        "print(joined)\n",
        "\n",
        "mul_output = MapReduceDistributed(get_joined, map_multiply, reduce_multiply)\n",
        "pre_result = [(partition_id, list(partition)) for (partition_id, partition) in mul_output]\n",
        "print(pre_result)\n",
        "\n",
        "\n",
        "solution_values = []\n",
        "for p in pre_result:\n",
        "    solution_values.extend(p[1])\n",
        "\n",
        "print(solution_values)"
      ]
    },
    {
      "cell_type": "code",
      "execution_count": 42,
      "metadata": {
        "colab": {
          "base_uri": "https://localhost:8080/"
        },
        "id": "l9V5TI9SL9cU",
        "outputId": "4688e649-bebe-4d0d-90c4-0eda6f824fee"
      },
      "outputs": [
        {
          "name": "stdout",
          "output_type": "stream",
          "text": [
            "Are the results close?  True\n"
          ]
        }
      ],
      "source": [
        "reference_solution = np.matmul(matrix_A, matrix_B)\n",
        "\n",
        "is_close = np.allclose(reference_solution, as_matrix(solution_values))\n",
        "print(\"Are the results close? \", is_close)"
      ]
    },
    {
      "cell_type": "markdown",
      "metadata": {
        "id": "ZuSA2P9Db6UM"
      },
      "source": [
        "Обобщите предыдущее решение на случай, когда каждая матрица генерируется несколькими RECORDREADER-ами, и проверьте его работоспособность. Будет ли работать решение, если RECORDREADER-ы будут генерировать случайное подмножество элементов матрицы?"
      ]
    },
    {
      "cell_type": "code",
      "execution_count": 43,
      "metadata": {
        "colab": {
          "base_uri": "https://localhost:8080/"
        },
        "id": "ehN0FqRDcwU5",
        "outputId": "ad766a86-48a0-4ab5-bbab-49d873462562"
      },
      "outputs": [
        {
          "name": "stdout",
          "output_type": "stream",
          "text": [
            "126 key-value pairs were sent over a network.\n",
            "[(0, [((0, 0), np.float64(0.3445867629616581)), ((0, 1), np.float64(0.03041774159404952)), ((0, 2), np.float64(0.3895235314990261)), ((0, 3), np.float64(0.7549847073942374)), ((0, 4), np.float64(0.3766919701695717)), ((0, 5), np.float64(0.5695978428981087)), ((0, 6), np.float64(0.00017535135728199565)), ((0, 7), np.float64(0.5610597174214389)), ((0, 8), np.float64(0.026705502558677235)), ((0, 9), np.float64(0.1543611011475926)), ((0, 10), np.float64(0.7213458911914636)), ((0, 11), np.float64(0.8622850971021838)), ((0, 12), np.float64(0.27597418569383886)), ((0, 13), np.float64(0.5400577710784273)), ((0, 14), np.float64(0.6660019698015878)), ((0, 15), np.float64(0.55142048414282)), ((0, 16), np.float64(0.24338311285315856)), ((0, 17), np.float64(0.8587946436224982)), ((0, 18), np.float64(0.7123668951318465)), ((0, 19), np.float64(0.1517066274776061)), ((0, 20), np.float64(0.17931159713112846)), ((0, 21), np.float64(0.5997372275258017)), ((0, 22), np.float64(0.4541800283060495)), ((0, 23), np.float64(0.5154615696153679)), ((0, 24), np.float64(0.4998448126155404)), ((0, 25), np.float64(0.7187217509461417)), ((0, 26), np.float64(0.7289098707830471)), ((0, 27), np.float64(0.23099774472727969)), ((0, 28), np.float64(0.3278097996939026)), ((0, 29), np.float64(0.6634344083264088)), ((0, 30), np.float64(0.049506919831032774)), ((0, 31), np.float64(0.6562987113147434)), ((0, 32), np.float64(0.19914762491776397)), ((0, 33), np.float64(0.644832525185804)), ((0, 34), np.float64(0.8081901969153567)), ((0, 35), np.float64(0.17277289868873996)), ((0, 36), np.float64(0.52685916016086)), ((0, 37), np.float64(0.12446282361202048)), ((0, 38), np.float64(0.4072710408154607)), ((0, 39), np.float64(0.25912664955571374)), ((1, 0), np.float64(0.1454340081849417)), ((1, 1), np.float64(0.01283791066706956)), ((1, 2), np.float64(0.16439972325506932)), ((1, 3), np.float64(0.3186438479846563)), ((1, 4), np.float64(0.1589841194188271)), ((1, 5), np.float64(0.2404006951230048)), ((1, 6), np.float64(7.400763311685304e-05)), ((1, 7), np.float64(0.2367971504024079)), ((1, 8), np.float64(0.011271147632951312)), ((1, 9), np.float64(0.06514862455768078)), ((1, 10), np.float64(0.3044464718901186)), ((1, 11), np.float64(0.3639303401903052)), ((1, 12), np.float64(0.11647583800395808)), ((1, 13), np.float64(0.22793320795117364)), ((1, 14), np.float64(0.2810883827771669)), ((1, 15), np.float64(0.23272887941169892)), ((1, 16), np.float64(0.10272066553729275)), ((1, 17), np.float64(0.3624571824997115)), ((1, 18), np.float64(0.30065685624962396)), ((1, 19), np.float64(0.06402829497180378)), ((1, 20), np.float64(0.0756790657327867)), ((1, 21), np.float64(0.25312112429143674)), ((1, 22), np.float64(0.19168821630402777)), ((1, 23), np.float64(0.2175522979761289)), ((1, 24), np.float64(0.2109611928918402)), ((1, 25), np.float64(0.30333894462866356)), ((1, 26), np.float64(0.30763887504681064)), ((1, 27), np.float64(0.09749337905097752)), ((1, 28), np.float64(0.13835323412319198)), ((1, 29), np.float64(0.28000473477691545)), ((1, 30), np.float64(0.020894562873034133)), ((1, 31), np.float64(0.2769930897308889)), ((1, 32), np.float64(0.08405092831590999)), ((1, 33), np.float64(0.2721537471136805)), ((1, 34), np.float64(0.3410994046984215)), ((1, 35), np.float64(0.07291938595107957)), ((1, 36), np.float64(0.2223626895954557)), ((1, 37), np.float64(0.052529955452541986)), ((1, 38), np.float64(0.17189011955759906)), ((1, 39), np.float64(0.10936527842369693)), ((0, 0), np.float64(0.2997985998565657)), ((0, 1), np.float64(0.3675609644305147)), ((0, 2), np.float64(0.6654078859703908)), ((0, 3), np.float64(0.6741608759529468)), ((0, 4), np.float64(0.27959150525882825)), ((0, 5), np.float64(0.40715044982052123)), ((0, 6), np.float64(0.5698711185820654)), ((0, 7), np.float64(0.6110922607296546)), ((0, 8), np.float64(0.3704184855829056)), ((0, 9), np.float64(0.4212596187300145)), ((0, 10), np.float64(0.7259000889690075)), ((0, 11), np.float64(0.08901336345545997)), ((0, 12), np.float64(0.3714370169436531)), ((0, 13), np.float64(0.10183779214135177)), ((0, 14), np.float64(0.6846217814304336)), ((0, 15), np.float64(0.33701356631019685)), ((0, 16), np.float64(0.6379236113413901)), ((0, 17), np.float64(0.36305501952334296)), ((0, 18), np.float64(0.7224495672084734)), ((0, 19), np.float64(0.6270350859893138)), ((0, 20), np.float64(0.5907811594180673)), ((0, 21), np.float64(0.4691950197398305)), ((0, 22), np.float64(0.6322875212636496)), ((0, 23), np.float64(0.4848328909382975)), ((0, 24), np.float64(0.3344043010421309)), ((0, 25), np.float64(0.6395615032987293)), ((0, 26), np.float64(0.646167688145228)), ((0, 27), np.float64(0.039697246165839)), ((0, 28), np.float64(0.20484615917848062)), ((0, 29), np.float64(0.47496407914041683)), ((0, 30), np.float64(0.360040280522206)), ((0, 31), np.float64(0.6012875837328807)), ((0, 32), np.float64(0.5782084351154221)), ((0, 33), np.float64(0.5474016442226679)), ((0, 34), np.float64(0.8072851137379935)), ((0, 35), np.float64(0.001591481383031417)), ((0, 36), np.float64(0.7548009666493655)), ((0, 37), np.float64(0.27560467014440204)), ((0, 38), np.float64(0.6801843617924204)), ((0, 39), np.float64(0.8130076020702288)), ((1, 0), np.float64(0.23760575480909416)), ((1, 1), np.float64(0.2913109014973887)), ((1, 2), np.float64(0.5273698512186558)), ((1, 3), np.float64(0.534307044363109)), ((1, 4), np.float64(0.2215905967440088)), ((1, 5), np.float64(0.32268759759635846)), ((1, 6), np.float64(0.4516520668854919)), ((1, 7), np.float64(0.48432193458586437)), ((1, 8), np.float64(0.2935756334561825)), ((1, 9), np.float64(0.3338698370400152)), ((1, 10), np.float64(0.575313022268914)), ((1, 11), np.float64(0.07054765239747536)), ((1, 12), np.float64(0.2943828717584392)), ((1, 13), np.float64(0.08071166937208628)), ((1, 14), np.float64(0.5425978480665087)), ((1, 15), np.float64(0.26710052295891445)), ((1, 16), np.float64(0.505587155029519)), ((1, 17), np.float64(0.2877397092326184)), ((1, 18), np.float64(0.572578306937391)), ((1, 19), np.float64(0.496957440660353)), ((1, 20), np.float64(0.46822434586979755)), ((1, 21), np.float64(0.3718610989887475)), ((1, 22), np.float64(0.501120264798096)), ((1, 23), np.float64(0.3842549133411055)), ((1, 24), np.float64(0.2650325465113507)), ((1, 25), np.float64(0.5068852683462775)), ((1, 26), np.float64(0.5121210083984714)), ((1, 27), np.float64(0.03146210203646495)), ((1, 28), np.float64(0.16235107934004178)), ((1, 29), np.float64(0.3764333742230902)), ((1, 30), np.float64(0.28535037407141256)), ((1, 31), np.float64(0.47655122558458013)), ((1, 32), np.float64(0.4582598175185447)), ((1, 33), np.float64(0.4338438569142562)), ((1, 34), np.float64(0.6398148253115017)), ((1, 35), np.float64(0.0012613305581170792)), ((1, 36), np.float64(0.5982184489759507)), ((1, 37), np.float64(0.21843082559392382)), ((1, 38), np.float64(0.5390809655894081)), ((1, 39), np.float64(0.6443501905874487))]), (1, [((0, 0), np.float64(0.3942249532196926)), ((0, 1), np.float64(0.7828958809514845)), ((0, 2), np.float64(0.02036334629752071)), ((0, 3), np.float64(0.8303842037738673)), ((0, 4), np.float64(0.6745428560976765)), ((0, 5), np.float64(0.2301133766351873)), ((0, 6), np.float64(0.41943634412934055)), ((0, 7), np.float64(0.1200309620535471)), ((0, 8), np.float64(0.23242777564256215)), ((0, 9), np.float64(0.25169488789824734)), ((0, 10), np.float64(0.517874442995011)), ((0, 11), np.float64(0.05386382484916331)), ((0, 12), np.float64(0.133203211996262)), ((0, 13), np.float64(0.14645679112508644)), ((0, 14), np.float64(0.2019964496260126)), ((0, 15), np.float64(0.46630411935659216)), ((0, 16), np.float64(0.2873248462535049)), ((0, 17), np.float64(0.7784258732730452)), ((0, 18), np.float64(0.27329851313092623)), ((0, 19), np.float64(0.743836274149708)), ((0, 20), np.float64(0.25597962368295596)), ((0, 21), np.float64(0.6900223906613058)), ((0, 22), np.float64(0.3474398685751437)), ((0, 23), np.float64(0.6532383921229397)), ((0, 24), np.float64(0.15592650266309407)), ((0, 25), np.float64(0.13316003670853077)), ((0, 26), np.float64(0.6326683066788045)), ((0, 27), np.float64(0.26442423932449455)), ((0, 28), np.float64(0.04438767295931754)), ((0, 29), np.float64(0.4712827101126595)), ((0, 30), np.float64(0.44898247564523197)), ((0, 31), np.float64(0.7461485719532508)), ((0, 32), np.float64(0.7148246195166043)), ((0, 33), np.float64(0.37051044271968175)), ((0, 34), np.float64(0.7077027739903196)), ((0, 35), np.float64(0.6248943151904517)), ((0, 36), np.float64(0.23599710581684052)), ((0, 37), np.float64(0.39225421266621463)), ((0, 38), np.float64(0.6536751478384365)), ((0, 39), np.float64(0.16051173426796533)), ((1, 0), np.float64(0.43323856241599545)), ((1, 1), np.float64(0.8603734573742414)), ((1, 2), np.float64(0.02237856027089323)), ((1, 3), np.float64(0.9125613580717665)), ((1, 4), np.float64(0.7412975126941787)), ((1, 5), np.float64(0.25288604303685935)), ((1, 6), np.float64(0.4609449434174961)), ((1, 7), np.float64(0.13190956336167814)), ((1, 8), np.float64(0.2554294814737797)), ((1, 9), np.float64(0.2766033213014908)), ((1, 10), np.float64(0.5691247531713459)), ((1, 11), np.float64(0.05919434032090283)), ((1, 12), np.float64(0.1463853761745362)), ((1, 13), np.float64(0.1609505667383072)), ((1, 14), np.float64(0.2219865859184716)), ((1, 15), np.float64(0.5124508853860529)), ((1, 16), np.float64(0.3157593204606087)), ((1, 17), np.float64(0.8554610851746147)), ((1, 18), np.float64(0.30034490199631775)), ((1, 19), np.float64(0.8174484021205588)), ((1, 20), np.float64(0.2813120865801439)), ((1, 21), np.float64(0.7583089454978199)), ((1, 22), np.float64(0.38182349432257745)), ((1, 23), np.float64(0.7178846990960634)), ((1, 24), np.float64(0.17135742754129216)), ((1, 25), np.float64(0.14633792813900265)), ((1, 26), np.float64(0.6952789401916416)), ((1, 27), np.float64(0.2905924051160864)), ((1, 28), np.float64(0.04878040181076359)), ((1, 29), np.float64(0.5179221714738571)), ((1, 30), np.float64(0.49341504313684414)), ((1, 31), np.float64(0.8199895314126111)), ((1, 32), np.float64(0.7855656726182718)), ((1, 33), np.float64(0.4071771973159069)), ((1, 34), np.float64(0.7777390292453523)), ((1, 35), np.float64(0.6867356126596291)), ((1, 36), np.float64(0.2593520425924074)), ((1, 37), np.float64(0.43107279183929653)), ((1, 38), np.float64(0.7183646773845087)), ((1, 39), np.float64(0.1763964265509053))])]\n",
            "Join Part: (0, [((0, 0), np.float64(0.3445867629616581)), ((0, 1), np.float64(0.03041774159404952)), ((0, 2), np.float64(0.3895235314990261)), ((0, 3), np.float64(0.7549847073942374)), ((0, 4), np.float64(0.3766919701695717)), ((0, 5), np.float64(0.5695978428981087)), ((0, 6), np.float64(0.00017535135728199565)), ((0, 7), np.float64(0.5610597174214389)), ((0, 8), np.float64(0.026705502558677235)), ((0, 9), np.float64(0.1543611011475926)), ((0, 10), np.float64(0.7213458911914636)), ((0, 11), np.float64(0.8622850971021838)), ((0, 12), np.float64(0.27597418569383886)), ((0, 13), np.float64(0.5400577710784273)), ((0, 14), np.float64(0.6660019698015878)), ((0, 15), np.float64(0.55142048414282)), ((0, 16), np.float64(0.24338311285315856)), ((0, 17), np.float64(0.8587946436224982)), ((0, 18), np.float64(0.7123668951318465)), ((0, 19), np.float64(0.1517066274776061)), ((0, 20), np.float64(0.17931159713112846)), ((0, 21), np.float64(0.5997372275258017)), ((0, 22), np.float64(0.4541800283060495)), ((0, 23), np.float64(0.5154615696153679)), ((0, 24), np.float64(0.4998448126155404)), ((0, 25), np.float64(0.7187217509461417)), ((0, 26), np.float64(0.7289098707830471)), ((0, 27), np.float64(0.23099774472727969)), ((0, 28), np.float64(0.3278097996939026)), ((0, 29), np.float64(0.6634344083264088)), ((0, 30), np.float64(0.049506919831032774)), ((0, 31), np.float64(0.6562987113147434)), ((0, 32), np.float64(0.19914762491776397)), ((0, 33), np.float64(0.644832525185804)), ((0, 34), np.float64(0.8081901969153567)), ((0, 35), np.float64(0.17277289868873996)), ((0, 36), np.float64(0.52685916016086)), ((0, 37), np.float64(0.12446282361202048)), ((0, 38), np.float64(0.4072710408154607)), ((0, 39), np.float64(0.25912664955571374)), ((1, 0), np.float64(0.1454340081849417)), ((1, 1), np.float64(0.01283791066706956)), ((1, 2), np.float64(0.16439972325506932)), ((1, 3), np.float64(0.3186438479846563)), ((1, 4), np.float64(0.1589841194188271)), ((1, 5), np.float64(0.2404006951230048)), ((1, 6), np.float64(7.400763311685304e-05)), ((1, 7), np.float64(0.2367971504024079)), ((1, 8), np.float64(0.011271147632951312)), ((1, 9), np.float64(0.06514862455768078)), ((1, 10), np.float64(0.3044464718901186)), ((1, 11), np.float64(0.3639303401903052)), ((1, 12), np.float64(0.11647583800395808)), ((1, 13), np.float64(0.22793320795117364)), ((1, 14), np.float64(0.2810883827771669)), ((1, 15), np.float64(0.23272887941169892)), ((1, 16), np.float64(0.10272066553729275)), ((1, 17), np.float64(0.3624571824997115)), ((1, 18), np.float64(0.30065685624962396)), ((1, 19), np.float64(0.06402829497180378)), ((1, 20), np.float64(0.0756790657327867)), ((1, 21), np.float64(0.25312112429143674)), ((1, 22), np.float64(0.19168821630402777)), ((1, 23), np.float64(0.2175522979761289)), ((1, 24), np.float64(0.2109611928918402)), ((1, 25), np.float64(0.30333894462866356)), ((1, 26), np.float64(0.30763887504681064)), ((1, 27), np.float64(0.09749337905097752)), ((1, 28), np.float64(0.13835323412319198)), ((1, 29), np.float64(0.28000473477691545)), ((1, 30), np.float64(0.020894562873034133)), ((1, 31), np.float64(0.2769930897308889)), ((1, 32), np.float64(0.08405092831590999)), ((1, 33), np.float64(0.2721537471136805)), ((1, 34), np.float64(0.3410994046984215)), ((1, 35), np.float64(0.07291938595107957)), ((1, 36), np.float64(0.2223626895954557)), ((1, 37), np.float64(0.052529955452541986)), ((1, 38), np.float64(0.17189011955759906)), ((1, 39), np.float64(0.10936527842369693)), ((0, 0), np.float64(0.2997985998565657)), ((0, 1), np.float64(0.3675609644305147)), ((0, 2), np.float64(0.6654078859703908)), ((0, 3), np.float64(0.6741608759529468)), ((0, 4), np.float64(0.27959150525882825)), ((0, 5), np.float64(0.40715044982052123)), ((0, 6), np.float64(0.5698711185820654)), ((0, 7), np.float64(0.6110922607296546)), ((0, 8), np.float64(0.3704184855829056)), ((0, 9), np.float64(0.4212596187300145)), ((0, 10), np.float64(0.7259000889690075)), ((0, 11), np.float64(0.08901336345545997)), ((0, 12), np.float64(0.3714370169436531)), ((0, 13), np.float64(0.10183779214135177)), ((0, 14), np.float64(0.6846217814304336)), ((0, 15), np.float64(0.33701356631019685)), ((0, 16), np.float64(0.6379236113413901)), ((0, 17), np.float64(0.36305501952334296)), ((0, 18), np.float64(0.7224495672084734)), ((0, 19), np.float64(0.6270350859893138)), ((0, 20), np.float64(0.5907811594180673)), ((0, 21), np.float64(0.4691950197398305)), ((0, 22), np.float64(0.6322875212636496)), ((0, 23), np.float64(0.4848328909382975)), ((0, 24), np.float64(0.3344043010421309)), ((0, 25), np.float64(0.6395615032987293)), ((0, 26), np.float64(0.646167688145228)), ((0, 27), np.float64(0.039697246165839)), ((0, 28), np.float64(0.20484615917848062)), ((0, 29), np.float64(0.47496407914041683)), ((0, 30), np.float64(0.360040280522206)), ((0, 31), np.float64(0.6012875837328807)), ((0, 32), np.float64(0.5782084351154221)), ((0, 33), np.float64(0.5474016442226679)), ((0, 34), np.float64(0.8072851137379935)), ((0, 35), np.float64(0.001591481383031417)), ((0, 36), np.float64(0.7548009666493655)), ((0, 37), np.float64(0.27560467014440204)), ((0, 38), np.float64(0.6801843617924204)), ((0, 39), np.float64(0.8130076020702288)), ((1, 0), np.float64(0.23760575480909416)), ((1, 1), np.float64(0.2913109014973887)), ((1, 2), np.float64(0.5273698512186558)), ((1, 3), np.float64(0.534307044363109)), ((1, 4), np.float64(0.2215905967440088)), ((1, 5), np.float64(0.32268759759635846)), ((1, 6), np.float64(0.4516520668854919)), ((1, 7), np.float64(0.48432193458586437)), ((1, 8), np.float64(0.2935756334561825)), ((1, 9), np.float64(0.3338698370400152)), ((1, 10), np.float64(0.575313022268914)), ((1, 11), np.float64(0.07054765239747536)), ((1, 12), np.float64(0.2943828717584392)), ((1, 13), np.float64(0.08071166937208628)), ((1, 14), np.float64(0.5425978480665087)), ((1, 15), np.float64(0.26710052295891445)), ((1, 16), np.float64(0.505587155029519)), ((1, 17), np.float64(0.2877397092326184)), ((1, 18), np.float64(0.572578306937391)), ((1, 19), np.float64(0.496957440660353)), ((1, 20), np.float64(0.46822434586979755)), ((1, 21), np.float64(0.3718610989887475)), ((1, 22), np.float64(0.501120264798096)), ((1, 23), np.float64(0.3842549133411055)), ((1, 24), np.float64(0.2650325465113507)), ((1, 25), np.float64(0.5068852683462775)), ((1, 26), np.float64(0.5121210083984714)), ((1, 27), np.float64(0.03146210203646495)), ((1, 28), np.float64(0.16235107934004178)), ((1, 29), np.float64(0.3764333742230902)), ((1, 30), np.float64(0.28535037407141256)), ((1, 31), np.float64(0.47655122558458013)), ((1, 32), np.float64(0.4582598175185447)), ((1, 33), np.float64(0.4338438569142562)), ((1, 34), np.float64(0.6398148253115017)), ((1, 35), np.float64(0.0012613305581170792)), ((1, 36), np.float64(0.5982184489759507)), ((1, 37), np.float64(0.21843082559392382)), ((1, 38), np.float64(0.5390809655894081)), ((1, 39), np.float64(0.6443501905874487))])\n",
            "Join Part: (1, [((0, 0), np.float64(0.3942249532196926)), ((0, 1), np.float64(0.7828958809514845)), ((0, 2), np.float64(0.02036334629752071)), ((0, 3), np.float64(0.8303842037738673)), ((0, 4), np.float64(0.6745428560976765)), ((0, 5), np.float64(0.2301133766351873)), ((0, 6), np.float64(0.41943634412934055)), ((0, 7), np.float64(0.1200309620535471)), ((0, 8), np.float64(0.23242777564256215)), ((0, 9), np.float64(0.25169488789824734)), ((0, 10), np.float64(0.517874442995011)), ((0, 11), np.float64(0.05386382484916331)), ((0, 12), np.float64(0.133203211996262)), ((0, 13), np.float64(0.14645679112508644)), ((0, 14), np.float64(0.2019964496260126)), ((0, 15), np.float64(0.46630411935659216)), ((0, 16), np.float64(0.2873248462535049)), ((0, 17), np.float64(0.7784258732730452)), ((0, 18), np.float64(0.27329851313092623)), ((0, 19), np.float64(0.743836274149708)), ((0, 20), np.float64(0.25597962368295596)), ((0, 21), np.float64(0.6900223906613058)), ((0, 22), np.float64(0.3474398685751437)), ((0, 23), np.float64(0.6532383921229397)), ((0, 24), np.float64(0.15592650266309407)), ((0, 25), np.float64(0.13316003670853077)), ((0, 26), np.float64(0.6326683066788045)), ((0, 27), np.float64(0.26442423932449455)), ((0, 28), np.float64(0.04438767295931754)), ((0, 29), np.float64(0.4712827101126595)), ((0, 30), np.float64(0.44898247564523197)), ((0, 31), np.float64(0.7461485719532508)), ((0, 32), np.float64(0.7148246195166043)), ((0, 33), np.float64(0.37051044271968175)), ((0, 34), np.float64(0.7077027739903196)), ((0, 35), np.float64(0.6248943151904517)), ((0, 36), np.float64(0.23599710581684052)), ((0, 37), np.float64(0.39225421266621463)), ((0, 38), np.float64(0.6536751478384365)), ((0, 39), np.float64(0.16051173426796533)), ((1, 0), np.float64(0.43323856241599545)), ((1, 1), np.float64(0.8603734573742414)), ((1, 2), np.float64(0.02237856027089323)), ((1, 3), np.float64(0.9125613580717665)), ((1, 4), np.float64(0.7412975126941787)), ((1, 5), np.float64(0.25288604303685935)), ((1, 6), np.float64(0.4609449434174961)), ((1, 7), np.float64(0.13190956336167814)), ((1, 8), np.float64(0.2554294814737797)), ((1, 9), np.float64(0.2766033213014908)), ((1, 10), np.float64(0.5691247531713459)), ((1, 11), np.float64(0.05919434032090283)), ((1, 12), np.float64(0.1463853761745362)), ((1, 13), np.float64(0.1609505667383072)), ((1, 14), np.float64(0.2219865859184716)), ((1, 15), np.float64(0.5124508853860529)), ((1, 16), np.float64(0.3157593204606087)), ((1, 17), np.float64(0.8554610851746147)), ((1, 18), np.float64(0.30034490199631775)), ((1, 19), np.float64(0.8174484021205588)), ((1, 20), np.float64(0.2813120865801439)), ((1, 21), np.float64(0.7583089454978199)), ((1, 22), np.float64(0.38182349432257745)), ((1, 23), np.float64(0.7178846990960634)), ((1, 24), np.float64(0.17135742754129216)), ((1, 25), np.float64(0.14633792813900265)), ((1, 26), np.float64(0.6952789401916416)), ((1, 27), np.float64(0.2905924051160864)), ((1, 28), np.float64(0.04878040181076359)), ((1, 29), np.float64(0.5179221714738571)), ((1, 30), np.float64(0.49341504313684414)), ((1, 31), np.float64(0.8199895314126111)), ((1, 32), np.float64(0.7855656726182718)), ((1, 33), np.float64(0.4071771973159069)), ((1, 34), np.float64(0.7777390292453523)), ((1, 35), np.float64(0.6867356126596291)), ((1, 36), np.float64(0.2593520425924074)), ((1, 37), np.float64(0.43107279183929653)), ((1, 38), np.float64(0.7183646773845087)), ((1, 39), np.float64(0.1763964265509053))])\n",
            "240 key-value pairs were sent over a network.\n",
            "[(0, [((0, 1), np.float64(1.1808745869760489)), ((0, 2), np.float64(1.0752947637669377)), ((0, 4), np.float64(1.3308263315260764)), ((0, 5), np.float64(1.2068616693538172)), ((0, 8), np.float64(0.6295517637841449)), ((0, 9), np.float64(0.8273156077758544)), ((0, 11), np.float64(1.0051622854068072)), ((0, 12), np.float64(0.7806144146337539)), ((0, 15), np.float64(1.354738169809609)), ((0, 16), np.float64(1.1686315704480537)), ((0, 18), np.float64(1.7081149754712461)), ((0, 19), np.float64(1.5225779876166279)), ((0, 22), np.float64(1.4339074181448428)), ((0, 23), np.float64(1.653532852676605)), ((0, 25), np.float64(1.491443290953402)), ((0, 26), np.float64(2.0077458656070797)), ((0, 29), np.float64(1.6096811975794851)), ((0, 32), np.float64(1.4921806795497903)), ((0, 33), np.float64(1.5627446121281536)), ((0, 36), np.float64(1.5176572326270659)), ((0, 39), np.float64(1.2326459858939078)), ((1, 0), np.float64(0.8162783254100313)), ((1, 1), np.float64(1.1645222695386996)), ((1, 3), np.float64(1.765512250419532)), ((1, 4), np.float64(1.1218722288570144)), ((1, 7), np.float64(0.8530286483499504)), ((1, 10), np.float64(1.4488842473303785)), ((1, 11), np.float64(0.49367233290868334)), ((1, 14), np.float64(1.0456728167621472)), ((1, 17), np.float64(1.5056579769069445)), ((1, 18), np.float64(1.1735800651833328)), ((1, 21), np.float64(1.3832911687780043)), ((1, 24), np.float64(0.647351166944483)), ((1, 25), np.float64(0.9565621411139438)), ((1, 27), np.float64(0.4195478862035289)), ((1, 28), np.float64(0.3494847152739974)), ((1, 31), np.float64(1.5735338467280802)), ((1, 32), np.float64(1.3278764184527265)), ((1, 34), np.float64(1.7586532592552755)), ((1, 35), np.float64(0.7609163291688258)), ((1, 38), np.float64(1.4293357625315157)), ((1, 39), np.float64(0.9301118955620509))]), (1, [((0, 0), np.float64(1.0386103160379163)), ((0, 3), np.float64(2.2595297871210516)), ((0, 6), np.float64(0.989482814068688)), ((0, 7), np.float64(1.2921829402046405)), ((0, 10), np.float64(1.965120423155482)), ((0, 13), np.float64(0.7883523543448656)), ((0, 14), np.float64(1.5526202008580339)), ((0, 17), np.float64(2.0002755364188864)), ((0, 20), np.float64(1.0260723802321516)), ((0, 21), np.float64(1.758954637926938)), ((0, 24), np.float64(0.9901756163207653)), ((0, 27), np.float64(0.5351192302176132)), ((0, 28), np.float64(0.5770436318317008)), ((0, 30), np.float64(0.8585296759984707)), ((0, 31), np.float64(2.0037348670008748)), ((0, 34), np.float64(2.32317808464367)), ((0, 35), np.float64(0.799258695262223)), ((0, 37), np.float64(0.7923217064226371)), ((0, 38), np.float64(1.7411305504463175)), ((1, 2), np.float64(0.7141481347446184)), ((1, 5), np.float64(0.8159743357562226)), ((1, 6), np.float64(0.9126710179361048)), ((1, 8), np.float64(0.5602762625629134)), ((1, 9), np.float64(0.6756217828991868)), ((1, 12), np.float64(0.5572440859369334)), ((1, 13), np.float64(0.4695954440615671)), ((1, 15), np.float64(1.0122802877566661)), ((1, 16), np.float64(0.9240671410274204)), ((1, 19), np.float64(1.3784341377527156)), ((1, 20), np.float64(0.8252154981827282)), ((1, 22), np.float64(1.0746319754247011)), ((1, 23), np.float64(1.3196919104132978)), ((1, 26), np.float64(1.5150388236369237)), ((1, 29), np.float64(1.1743602804738629)), ((1, 30), np.float64(0.7996599800812909)), ((1, 33), np.float64(1.1131748013438436)), ((1, 36), np.float64(1.0799331811638138)), ((1, 37), np.float64(0.7020335728857623))])]\n",
            "[((0, 1), np.float64(1.1808745869760489)), ((0, 2), np.float64(1.0752947637669377)), ((0, 4), np.float64(1.3308263315260764)), ((0, 5), np.float64(1.2068616693538172)), ((0, 8), np.float64(0.6295517637841449)), ((0, 9), np.float64(0.8273156077758544)), ((0, 11), np.float64(1.0051622854068072)), ((0, 12), np.float64(0.7806144146337539)), ((0, 15), np.float64(1.354738169809609)), ((0, 16), np.float64(1.1686315704480537)), ((0, 18), np.float64(1.7081149754712461)), ((0, 19), np.float64(1.5225779876166279)), ((0, 22), np.float64(1.4339074181448428)), ((0, 23), np.float64(1.653532852676605)), ((0, 25), np.float64(1.491443290953402)), ((0, 26), np.float64(2.0077458656070797)), ((0, 29), np.float64(1.6096811975794851)), ((0, 32), np.float64(1.4921806795497903)), ((0, 33), np.float64(1.5627446121281536)), ((0, 36), np.float64(1.5176572326270659)), ((0, 39), np.float64(1.2326459858939078)), ((1, 0), np.float64(0.8162783254100313)), ((1, 1), np.float64(1.1645222695386996)), ((1, 3), np.float64(1.765512250419532)), ((1, 4), np.float64(1.1218722288570144)), ((1, 7), np.float64(0.8530286483499504)), ((1, 10), np.float64(1.4488842473303785)), ((1, 11), np.float64(0.49367233290868334)), ((1, 14), np.float64(1.0456728167621472)), ((1, 17), np.float64(1.5056579769069445)), ((1, 18), np.float64(1.1735800651833328)), ((1, 21), np.float64(1.3832911687780043)), ((1, 24), np.float64(0.647351166944483)), ((1, 25), np.float64(0.9565621411139438)), ((1, 27), np.float64(0.4195478862035289)), ((1, 28), np.float64(0.3494847152739974)), ((1, 31), np.float64(1.5735338467280802)), ((1, 32), np.float64(1.3278764184527265)), ((1, 34), np.float64(1.7586532592552755)), ((1, 35), np.float64(0.7609163291688258)), ((1, 38), np.float64(1.4293357625315157)), ((1, 39), np.float64(0.9301118955620509)), ((0, 0), np.float64(1.0386103160379163)), ((0, 3), np.float64(2.2595297871210516)), ((0, 6), np.float64(0.989482814068688)), ((0, 7), np.float64(1.2921829402046405)), ((0, 10), np.float64(1.965120423155482)), ((0, 13), np.float64(0.7883523543448656)), ((0, 14), np.float64(1.5526202008580339)), ((0, 17), np.float64(2.0002755364188864)), ((0, 20), np.float64(1.0260723802321516)), ((0, 21), np.float64(1.758954637926938)), ((0, 24), np.float64(0.9901756163207653)), ((0, 27), np.float64(0.5351192302176132)), ((0, 28), np.float64(0.5770436318317008)), ((0, 30), np.float64(0.8585296759984707)), ((0, 31), np.float64(2.0037348670008748)), ((0, 34), np.float64(2.32317808464367)), ((0, 35), np.float64(0.799258695262223)), ((0, 37), np.float64(0.7923217064226371)), ((0, 38), np.float64(1.7411305504463175)), ((1, 2), np.float64(0.7141481347446184)), ((1, 5), np.float64(0.8159743357562226)), ((1, 6), np.float64(0.9126710179361048)), ((1, 8), np.float64(0.5602762625629134)), ((1, 9), np.float64(0.6756217828991868)), ((1, 12), np.float64(0.5572440859369334)), ((1, 13), np.float64(0.4695954440615671)), ((1, 15), np.float64(1.0122802877566661)), ((1, 16), np.float64(0.9240671410274204)), ((1, 19), np.float64(1.3784341377527156)), ((1, 20), np.float64(0.8252154981827282)), ((1, 22), np.float64(1.0746319754247011)), ((1, 23), np.float64(1.3196919104132978)), ((1, 26), np.float64(1.5150388236369237)), ((1, 29), np.float64(1.1743602804738629)), ((1, 30), np.float64(0.7996599800812909)), ((1, 33), np.float64(1.1131748013438436)), ((1, 36), np.float64(1.0799331811638138)), ((1, 37), np.float64(0.7020335728857623))]\n"
          ]
        }
      ],
      "source": [
        "def input_format():\n",
        "    def RECORDREADER_A(prefix):\n",
        "        matrix_A_list = list()\n",
        "        for j in range(matrix_A.shape[0]):\n",
        "            for i in range(matrix_A.shape[1]):\n",
        "                matrix_A_list.append(((prefix,j,i), matrix_A[j,i]))\n",
        "        return matrix_A_list\n",
        "\n",
        "    def RECORDREADER_B(prefix):\n",
        "        matrix_B_list = list()\n",
        "        for j in range(matrix_B.shape[0]):\n",
        "            for i in range(matrix_B.shape[1]):\n",
        "                matrix_B_list.append(((prefix,j,i), matrix_B[j,i]))\n",
        "        return matrix_B_list\n",
        "\n",
        "    global num_maps\n",
        "    split_size = int(np.ceil(matrix_A.shape[0]*matrix_A.shape[1] / num_maps))\n",
        "\n",
        "    for i in range(0, matrix_A.shape[0]*matrix_A.shape[1], split_size):\n",
        "        yield RECORDREADER_A(\"A\")[i:i + split_size]\n",
        "\n",
        "    split_size = int(np.ceil(matrix_B.shape[0]*matrix_B.shape[1] / num_maps))\n",
        "\n",
        "    for i in range(0, matrix_B.shape[0]*matrix_B.shape[1], split_size):\n",
        "        yield RECORDREADER_B(\"B\")[i:i + split_size]\n",
        "\n",
        "\n",
        "def map_join(key1, value1):\n",
        "\n",
        "    matrix_id, i, j = key1\n",
        "    value = value1\n",
        "\n",
        "    if matrix_id == 'A':\n",
        "        yield (j, (matrix_id, i, value))\n",
        "    elif matrix_id == 'B':\n",
        "        yield (i, (matrix_id, j, value))\n",
        "    else: pass\n",
        "\n",
        "def reduce_join(key, values):\n",
        "    matrix_A_values = [v for v in values if v[0] == 'A']\n",
        "    matrix_B_values = [v for v in values if v[0] == 'B']\n",
        "\n",
        "    for a in matrix_A_values:\n",
        "        for b in matrix_B_values:\n",
        "            yield ((a[1], b[1]), a[2] * b[2])\n",
        "\n",
        "def get_joined():\n",
        "    for j in joined:\n",
        "        print(\"Join Part:\", j)\n",
        "        yield j[1]\n",
        "\n",
        "def map_multiply(key1, value1):\n",
        "    yield (key1, value1)\n",
        "\n",
        "def reduce_multiply(key, values):\n",
        "    yield (key, sum(values))\n",
        "\n",
        "num_maps = 3\n",
        "num_reducers = 2\n",
        "\n",
        "partitioned_output = MapReduceDistributed(input_format, map_join, reduce_join)\n",
        "joined = [(partition_id, list(partition)) for (partition_id, partition) in partitioned_output]\n",
        "print(joined)\n",
        "\n",
        "mul_output = MapReduceDistributed(get_joined, map_multiply, reduce_multiply)\n",
        "pre_result = [(partition_id, list(partition)) for (partition_id, partition) in mul_output]\n",
        "print(pre_result)\n",
        "\n",
        "\n",
        "solution_values = []\n",
        "for p in pre_result:\n",
        "    solution_values.extend(p[1])\n",
        "\n",
        "print(solution_values)"
      ]
    },
    {
      "cell_type": "code",
      "execution_count": 44,
      "metadata": {
        "colab": {
          "base_uri": "https://localhost:8080/"
        },
        "id": "7UcQs6ooMWNg",
        "outputId": "10607e03-74fc-4b3e-93c6-55e7fae2b127"
      },
      "outputs": [
        {
          "name": "stdout",
          "output_type": "stream",
          "text": [
            "Are the results close?  True\n"
          ]
        }
      ],
      "source": [
        "reference_solution = np.matmul(matrix_A, matrix_B)\n",
        "\n",
        "is_close = np.allclose(reference_solution, as_matrix(solution_values))\n",
        "print(\"Are the results close? \", is_close)"
      ]
    }
  ],
  "metadata": {
    "colab": {
      "provenance": []
    },
    "kernelspec": {
      "display_name": "Python 3 (ipykernel)",
      "language": "python",
      "name": "python3"
    },
    "language_info": {
      "codemirror_mode": {
        "name": "ipython",
        "version": 3
      },
      "file_extension": ".py",
      "mimetype": "text/x-python",
      "name": "python",
      "nbconvert_exporter": "python",
      "pygments_lexer": "ipython3",
      "version": "3.11.2"
    }
  },
  "nbformat": 4,
  "nbformat_minor": 0
}
