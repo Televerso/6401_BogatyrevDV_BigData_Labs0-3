{
 "cells": [
  {
   "cell_type": "markdown",
   "id": "47ea0e5b",
   "metadata": {},
   "source": [
    "## Решите следующие задачи для данных велопарковок Сан-Франциско (trips.csv, stations.csv):\n",
    "\n",
    "1.\tНайти велосипед с максимальным временем пробега.\n",
    "2.\tНайти наибольшее геодезическое расстояние между станциями.\n",
    "3.\tНайти путь велосипеда с максимальным временем пробега через станции.\n",
    "4.\tНайти количество велосипедов в системе.\n",
    "5.\tНайти пользователей потративших на поездки более 3 часов."
   ]
  },
  {
   "cell_type": "code",
   "execution_count": 1,
   "id": "b6ed50b1",
   "metadata": {},
   "outputs": [],
   "source": [
    "from pyspark.sql import SparkSession\n",
    "spark = SparkSession.builder.master(\"local[*]\").getOrCreate()\n",
    "spark\n",
    "from pyspark.sql import functions as F"
   ]
  },
  {
   "cell_type": "code",
   "execution_count": 11,
   "id": "f8da8e25",
   "metadata": {},
   "outputs": [],
   "source": [
    "spark = SparkSession.builder.appName(\"lr2\").config(\"spark.sql.legacy.timeParserPolicy\", \"LEGACY\").getOrCreate()"
   ]
  },
  {
   "cell_type": "code",
   "execution_count": 12,
   "id": "1685121a",
   "metadata": {},
   "outputs": [
    {
     "name": "stdout",
     "output_type": "stream",
     "text": [
      "[('id', 'int'), ('duration', 'int'), ('start_date', 'string'), ('start_station_name', 'string'), ('start_station_id', 'int'), ('end_date', 'string'), ('end_station_name', 'string'), ('end_station_id', 'int'), ('bike_id', 'int'), ('subscription_type', 'string'), ('zip_code', 'string')]\n",
      "[('id', 'int'), ('name', 'string'), ('lat', 'double'), ('long', 'double'), ('dock_count', 'int'), ('city', 'string'), ('installation_date', 'string')]\n"
     ]
    }
   ],
   "source": [
    "trips_df = spark.read.option(\"header\", \"true\").option(\"inferSchema\", \"true\").csv(\"trip.csv\")\n",
    "print(trips_df.dtypes)\n",
    "\n",
    "stations_df = spark.read.option(\"header\", \"true\").option(\"inferSchema\", \"true\").csv(\"station.csv\")\n",
    "print(stations_df.dtypes)"
   ]
  },
  {
   "cell_type": "code",
   "execution_count": 28,
   "id": "afd782db",
   "metadata": {},
   "outputs": [
    {
     "name": "stdout",
     "output_type": "stream",
     "text": [
      "Row(bike_id=535, tot_duration=5169.914722222222)\n"
     ]
    }
   ],
   "source": [
    "result = (trips_df\n",
    "          .groupBy(\"bike_id\")\n",
    "          .agg((F.sum(\"duration\")/3600).alias(\"tot_duration\"))\n",
    "          .orderBy(F.desc(\"tot_duration\"))\n",
    "          .limit(1)).collect()[0]\n",
    "\n",
    "print(result)"
   ]
  },
  {
   "cell_type": "code",
   "execution_count": 33,
   "id": "266fca39",
   "metadata": {},
   "outputs": [
    {
     "name": "stdout",
     "output_type": "stream",
     "text": [
      "69.92087595421542\n"
     ]
    }
   ],
   "source": [
    "from pyspark.sql.functions import max, radians, sin, cos, acos, col\n",
    "\n",
    "def calc_dist(lat1, lon1, lat2, lon2):\n",
    "    R = 6371 # Радиус Земли\n",
    "    lat1, lat2, lon1, lon2 = radians(lat1), radians(lat2), radians(lon1), radians(lon2)\n",
    "    return R * acos(sin(lat1) * sin(lat2) + cos(lat1) * cos(lat2) * cos(lon2 - lon1))\n",
    "\n",
    "max_dist_stations = (stations_df.alias(\"st1\")\n",
    "            .crossJoin(stations_df.alias(\"st2\"))\n",
    "            .filter(col(\"st1.id\")<col(\"st2.id\"))\n",
    "            .withColumn(\"dist\",calc_dist(col(\"st1.lat\"), col(\"st1.long\"), col(\"st2.lat\"),col(\"st2.long\")))\n",
    "            .orderBy(F.desc(\"dist\"))\n",
    "            .limit(1)).collect()[0][\"dist\"]\n",
    "\n",
    "print(max_dist_stations)"
   ]
  },
  {
   "cell_type": "code",
   "execution_count": 34,
   "id": "a0645761",
   "metadata": {},
   "outputs": [
    {
     "name": "stdout",
     "output_type": "stream",
     "text": [
      "+---------------+--------------------+---------------+--------------------+\n",
      "|     start_date|  start_station_name|       end_date|    end_station_name|\n",
      "+---------------+--------------------+---------------+--------------------+\n",
      "| 1/1/2014 13:42|Mechanics Plaza (...| 1/1/2014 14:36|Embarcadero at Sa...|\n",
      "| 1/1/2014 18:51|Embarcadero at Sa...| 1/1/2014 19:13|       Market at 4th|\n",
      "| 1/1/2014 19:48|       Market at 4th| 1/1/2014 20:01|South Van Ness at...|\n",
      "|1/10/2014 20:13|      Market at 10th|1/10/2014 20:17|  Powell Street BART|\n",
      "| 1/10/2014 8:09|Embarcadero at Fo...| 1/10/2014 8:19|San Francisco Cal...|\n",
      "| 1/10/2014 8:21|San Francisco Cal...| 1/10/2014 8:31|Temporary Transba...|\n",
      "| 1/10/2014 9:19|Temporary Transba...| 1/10/2014 9:32|      Market at 10th|\n",
      "|1/11/2014 19:06|  Powell Street BART|1/11/2014 19:11|      Market at 10th|\n",
      "|1/12/2014 12:21|      Market at 10th|1/12/2014 12:29|       Market at 4th|\n",
      "|1/12/2014 17:36|       Market at 4th|1/12/2014 17:58|San Francisco Cal...|\n",
      "|1/13/2014 17:04|    Davis at Jackson|1/13/2014 17:06|     Beale at Market|\n",
      "|1/13/2014 18:09|     Beale at Market|1/13/2014 18:13|    Davis at Jackson|\n",
      "| 1/13/2014 6:43|San Francisco Cal...| 1/13/2014 6:54|Embarcadero at Va...|\n",
      "| 1/13/2014 8:20|San Francisco Cal...| 1/13/2014 8:31|   Market at Sansome|\n",
      "| 1/13/2014 8:52|   Market at Sansome| 1/13/2014 8:56|    Davis at Jackson|\n",
      "|1/14/2014 11:52|       Howard at 2nd|1/14/2014 11:55|   2nd at South Park|\n",
      "|1/14/2014 13:12|   2nd at South Park|1/14/2014 13:14|       2nd at Folsom|\n",
      "|1/14/2014 13:20|       2nd at Folsom|1/14/2014 14:02|   2nd at South Park|\n",
      "|1/14/2014 16:22|   2nd at South Park|1/14/2014 16:26|San Francisco Cal...|\n",
      "|1/14/2014 20:23|San Francisco Cal...|1/14/2014 20:29|Embarcadero at Br...|\n",
      "+---------------+--------------------+---------------+--------------------+\n",
      "only showing top 20 rows\n",
      "\n"
     ]
    }
   ],
   "source": [
    "result = (trips_df\n",
    "          .groupBy(\"bike_id\")\n",
    "          .agg((F.sum(\"duration\")/3600).alias(\"tot_duration\"))\n",
    "          .orderBy(F.desc(\"tot_duration\"))\n",
    "          .limit(1))\n",
    "\n",
    "max_bike_duration = result.collect()\n",
    "bike_id_max = max_bike_duration[0][\"bike_id\"]\n",
    "total_duration = max_bike_duration[0][\"tot_duration\"]\n",
    "\n",
    "bike_trips = (trips_df.filter(F.col(\"bike_id\")==bike_id_max)\n",
    "              .select(\"start_date\", \"start_station_name\", \"end_date\", \"end_station_name\")\n",
    "              .orderBy(\"start_date\"))\n",
    "bike_trips.show()\n"
   ]
  },
  {
   "cell_type": "code",
   "execution_count": 43,
   "id": "d08571de",
   "metadata": {},
   "outputs": [
    {
     "name": "stdout",
     "output_type": "stream",
     "text": [
      "700\n"
     ]
    }
   ],
   "source": [
    "tot_bikes = (trips_df.select(\"bike_id\").distinct().count())\n",
    "print(tot_bikes)"
   ]
  },
  {
   "cell_type": "code",
   "execution_count": 54,
   "id": "bfd9fe38",
   "metadata": {},
   "outputs": [
    {
     "name": "stdout",
     "output_type": "stream",
     "text": [
      "+--------+------------------+\n",
      "|zip_code|      tot_duration|\n",
      "+--------+------------------+\n",
      "|   94107|13821.433888888889|\n",
      "|   94105| 7110.035555555555|\n",
      "|   94133| 6010.465277777777|\n",
      "|   94102| 5313.339166666667|\n",
      "|   94103| 5313.163333333333|\n",
      "|   95531| 4797.333333333333|\n",
      "|   94111|3956.9436111111113|\n",
      "|   95112|3539.5472222222224|\n",
      "|   94109| 3349.202222222222|\n",
      "|   94040|2168.8683333333333|\n",
      "|   94110| 2061.648888888889|\n",
      "|   94117|1917.0313888888888|\n",
      "|   94301|1830.6605555555554|\n",
      "|   94041|1743.4122222222222|\n",
      "|   94158|1735.6019444444444|\n",
      "|   94306|1541.8452777777777|\n",
      "|   94025|1438.3991666666666|\n",
      "|   94108|1424.3227777777777|\n",
      "|   94611|1393.0294444444444|\n",
      "|   94010|1333.3772222222221|\n",
      "+--------+------------------+\n",
      "only showing top 20 rows\n",
      "\n"
     ]
    }
   ],
   "source": [
    "result = (trips_df\n",
    "          .groupBy(\"zip_code\")\n",
    "          .agg((F.sum(\"duration\")/3600).alias(\"tot_duration\"))\n",
    "          .filter(F.col(\"zip_code\")!=\"nil\")\n",
    "          .filter(F.col(\"tot_duration\")>3)\n",
    "          .orderBy(F.desc(\"tot_duration\"))\n",
    "          .select(\"zip_code\",\"tot_duration\")\n",
    "        )\n",
    "result.show()"
   ]
  }
 ],
 "metadata": {
  "kernelspec": {
   "display_name": "Python 3",
   "language": "python",
   "name": "python3"
  },
  "language_info": {
   "codemirror_mode": {
    "name": "ipython",
    "version": 3
   },
   "file_extension": ".py",
   "mimetype": "text/x-python",
   "name": "python",
   "nbconvert_exporter": "python",
   "pygments_lexer": "ipython3",
   "version": "3.11.2"
  }
 },
 "nbformat": 4,
 "nbformat_minor": 5
}
